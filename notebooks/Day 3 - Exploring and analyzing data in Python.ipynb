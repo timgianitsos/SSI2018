{
 "cells": [
  {
   "cell_type": "markdown",
   "metadata": {
    "slideshow": {
     "slide_type": "slide"
    }
   },
   "source": [
    "# Overview of Day 3\n",
    "* Preliminaries\n",
    "* Describing and summarizing data\n",
    "* Visualization with matplotlib, pandas and seaborn\n",
    "* Statistical analysis in SciPy and statsmodels"
   ]
  },
  {
   "cell_type": "markdown",
   "metadata": {
    "slideshow": {
     "slide_type": "subslide"
    }
   },
   "source": [
    "# Preliminaries\n",
    "* Import stuff\n",
    "* Load the preprocessed data"
   ]
  },
  {
   "cell_type": "code",
   "execution_count": null,
   "metadata": {
    "slideshow": {
     "slide_type": "fragment"
    }
   },
   "outputs": [],
   "source": [
    "import pandas as pd\n",
    "import numpy as np\n",
    "import matplotlib.pyplot as plt\n",
    "import seaborn as sns\n",
    "from scipy import stats\n",
    "import statsmodels.formula.api as smf\n",
    "import statsmodels.api as sm\n",
    "\n",
    "%matplotlib inline\n",
    "\n",
    "# Disable annoying SettingWithCopyWarning\n",
    "pd.options.mode.chained_assignment = None"
   ]
  },
  {
   "cell_type": "code",
   "execution_count": null,
   "metadata": {
    "slideshow": {
     "slide_type": "fragment"
    }
   },
   "outputs": [],
   "source": [
    "# If you don't have the data locally, use the commented line instead\n",
    "data = pd.read_csv('../data/preprocessed_data.csv')\n",
    "# data = pd.read_csv('https://raw.githubusercontent.com/tyarkoni/SSI2017/master/data/preprocessed_data.csv', encoding='utf8')  \n",
    "\n",
    "data.head()"
   ]
  },
  {
   "cell_type": "markdown",
   "metadata": {
    "slideshow": {
     "slide_type": "slide"
    }
   },
   "source": [
    "# Describing and summarizing data\n",
    "* It's a good idea to explore your data before you start modeling\n",
    "* Surprising how often interesting results reflect overlooked problems"
   ]
  },
  {
   "cell_type": "markdown",
   "metadata": {
    "slideshow": {
     "slide_type": "slide"
    }
   },
   "source": [
    "### A bird's eye view\n",
    "* Simple pandas tools for describing/inspecting entire datasets\n",
    "    * .describe(), .head() and .tail(), .dtypes(), etc..."
   ]
  },
  {
   "cell_type": "code",
   "execution_count": null,
   "metadata": {
    "slideshow": {
     "slide_type": "subslide"
    }
   },
   "outputs": [],
   "source": [
    "# Describe the continuous variables in the dataset.\n",
    "# We can also include categoricals, or select other percentiles.\n",
    "data.describe().round(2)"
   ]
  },
  {
   "cell_type": "markdown",
   "metadata": {
    "slideshow": {
     "slide_type": "subslide"
    }
   },
   "source": [
    "## Frequency counts\n",
    "* 1-dimensional frequency counts can provide quick insight, diagnose problems\n",
    "* What are the [top dog and cat names](http://dogtime.com/dog-names/female-dog-names/21032-top-10-most-popular-dog-and-cat-names-of-2014) in Austin?"
   ]
  },
  {
   "cell_type": "code",
   "execution_count": null,
   "metadata": {
    "slideshow": {
     "slide_type": "fragment"
    }
   },
   "outputs": [],
   "source": [
    "top_n = 20\n",
    "for species in ['Dog', 'Cat']:\n",
    "    name_counts = data.query('animal == @species')['name'].value_counts()\n",
    "    print(\"\\nTop {} {} names:\\n{}\".format(top_n, species, name_counts[:top_n]))"
   ]
  },
  {
   "cell_type": "markdown",
   "metadata": {
    "slideshow": {
     "slide_type": "subslide"
    }
   },
   "source": [
    "### What the heck kind of name is \"X\"?"
   ]
  },
  {
   "cell_type": "code",
   "execution_count": null,
   "metadata": {
    "slideshow": {
     "slide_type": "fragment"
    }
   },
   "outputs": [],
   "source": [
    "data.query('name == \"X\"').head(30)"
   ]
  },
  {
   "cell_type": "markdown",
   "metadata": {
    "slideshow": {
     "slide_type": "subslide"
    }
   },
   "source": [
    "### Contingency tables\n",
    "* It's useful to examine contingency tables (or crosstabs) for pairs of variables\n",
    "* Normalized crosstabs can be particularly informative"
   ]
  },
  {
   "cell_type": "code",
   "execution_count": null,
   "metadata": {
    "slideshow": {
     "slide_type": "fragment"
    }
   },
   "outputs": [],
   "source": [
    "# Select only dogs\n",
    "dogs = data.query('animal==\"Dog\"')\n",
    "\n",
    "# Keep only common breeds--estimates won't be reliable for uncommon ones\n",
    "dogs = dogs.groupby('breed').filter(lambda x: len(x) >= 100)\n",
    "\n",
    "# How many breeds left?\n",
    "print(\"Unique breeds:\", dogs['breed'].nunique())\n",
    "\n",
    "# Generate contingency table\n",
    "ctab = pd.crosstab(dogs['breed'], data['outcome'])\n",
    "\n",
    "# Sort in descending order of number of animals of each breed\n",
    "order = ctab.sum(1).sort_values(ascending=False).index\n",
    "ctab = ctab.loc[order, :]\n",
    "\n",
    "# Show just the top 10\n",
    "ctab.iloc[:10, :]"
   ]
  },
  {
   "cell_type": "markdown",
   "metadata": {
    "slideshow": {
     "slide_type": "subslide"
    }
   },
   "source": [
    "#### Normalized crosstabs\n",
    "We can normalize the crosstab by dividing by the sum of the rows and/or columns"
   ]
  },
  {
   "cell_type": "code",
   "execution_count": null,
   "metadata": {
    "slideshow": {
     "slide_type": "fragment"
    }
   },
   "outputs": [],
   "source": [
    "# Normalize by row to show proportion of animals accounted for by each outcome\n",
    "nctab = pd.crosstab(dogs['breed'], data['outcome'], normalize='index')\n",
    "nctab = nctab.round(2)  # Round to 2 decimal places for clarity\n",
    "nctab.iloc[:10, :]"
   ]
  },
  {
   "cell_type": "markdown",
   "metadata": {
    "slideshow": {
     "slide_type": "subslide"
    }
   },
   "source": [
    "Let's sort by specific outcomes to see, e.g., which breeds are euthanized or adopted most often."
   ]
  },
  {
   "cell_type": "code",
   "execution_count": null,
   "metadata": {
    "slideshow": {
     "slide_type": "fragment"
    }
   },
   "outputs": [],
   "source": [
    "# Top 10 breeds by euthanasia rate\n",
    "nctab.sort_values('Euthanasia', ascending=False).iloc[:10]"
   ]
  },
  {
   "cell_type": "markdown",
   "metadata": {
    "slideshow": {
     "slide_type": "subslide"
    }
   },
   "source": [
    "#### Drilling down further\n",
    "* Euthanasia is a pretty general category\n",
    "* Why are Chow Chows and Pit bulls being euthanized at such a high rate?\n",
    "* Repeat with outcome subtype"
   ]
  },
  {
   "cell_type": "code",
   "execution_count": null,
   "metadata": {
    "slideshow": {
     "slide_type": "fragment"
    }
   },
   "outputs": [],
   "source": [
    "# We can do the same thing for outcome subtype\n",
    "data['outcome_subtype'] = data['outcome_subtype'].fillna('Unknown')\n",
    "sctab = pd.crosstab(dogs['breed'], data['outcome_subtype'], normalize='index').round(2)\n",
    "\n",
    "# We could add a column for number of dogs in each breed\n",
    "sctab['num_dogs'] = dogs.groupby('breed')['animal'].count()\n",
    "\n",
    "# sort in descending order of 'aggressive'\n",
    "sctab.sort_values('Aggressive', ascending=False)[:10]"
   ]
  },
  {
   "cell_type": "markdown",
   "metadata": {
    "slideshow": {
     "slide_type": "subslide"
    }
   },
   "source": [
    "### What does this mean?\n",
    "~1 in 8 Pit Bulls that pass through AAC are euthanized (and 1 in 7 Chow Chows!). Some possible interpretations:\n",
    "* Pit bulls are much more dangerous than other dog breeds\n",
    "    * A genetic disposition?\n",
    "    * Abusive owners?\n",
    "* There could be a bias against pit bulls, causing many to be unnecessarily euthanized\n",
    "* Mixed-breed dogs with behavioral problems may be more likely to be labeled pit bulls\n",
    "* Data artifact (e.g., smaller samples for these breeds)\n",
    "* Others?"
   ]
  },
  {
   "cell_type": "markdown",
   "metadata": {
    "slideshow": {
     "slide_type": "slide"
    }
   },
   "source": [
    "# Visualization in Python\n",
    "* That thing about a picture being worth...\n",
    "* Python has a rich visualization ecosystem\n",
    "* The primary platform for visualization in Python is [matplotlib](http://matplotlib.org/)\n",
    "* Most other visualization platforms build on matplotlib\n",
    "    * But there are others--e.g., [Altair](https://altair-viz.github.io/), [Bokeh](http://bokeh.pydata.org/en/latest/), [Plotly](https://plot.ly/python/)...\n"
   ]
  },
  {
   "cell_type": "markdown",
   "metadata": {
    "slideshow": {
     "slide_type": "subslide"
    }
   },
   "source": [
    "## Matplotlib\n",
    "* Highly object-oriented (contrast with, e.g., R)\n",
    "    * Easy to modify/customize plots created in different packages\n",
    "* Documentation is comprehensive, though not always very well organized\n",
    "    * The [visualization chapter](http://nbviewer.jupyter.org/github/jakevdp/PythonDataScienceHandbook/blob/master/notebooks/04.00-Introduction-To-Matplotlib.ipynb) in Jake Vanderplas's [book](https://github.com/jakevdp/PythonDataScienceHandbook/blob/599aa0fe3f882c0001670e676e5a8d43b92c35fc/notebooks/Index.ipynb) is spectacular\n",
    "    * A good way to learn is to find a plot similar to what you want in the [matplotlib gallery](https://matplotlib.org/gallery.html#) and modify it\n",
    "* Provides a basic set of high-level plots (barplot, scatter, etc.)\n",
    "* Beyond that, API has a fairly steep learning curve"
   ]
  },
  {
   "cell_type": "markdown",
   "metadata": {
    "slideshow": {
     "slide_type": "subslide"
    }
   },
   "source": [
    "### Simple examples"
   ]
  },
  {
   "cell_type": "markdown",
   "metadata": {
    "slideshow": {
     "slide_type": "fragment"
    }
   },
   "source": [
    "#### Scatterplot"
   ]
  },
  {
   "cell_type": "code",
   "execution_count": null,
   "metadata": {
    "scrolled": false,
    "slideshow": {
     "slide_type": "fragment"
    }
   },
   "outputs": [],
   "source": [
    "# Scatterplot of minimum breed weight vs. height\n",
    "plt.scatter(data['min_weight'], data['min_height'], color='green', s=30)\n",
    "# Add axis labels\n",
    "plt.xlabel(\"Min. breed weight\")\n",
    "plt.ylabel(\"Min. breed height\")\n",
    "# Add title\n",
    "plt.title(\"Breed height vs. weight\", fontsize=16); "
   ]
  },
  {
   "cell_type": "markdown",
   "metadata": {
    "slideshow": {
     "slide_type": "subslide"
    }
   },
   "source": [
    "#### Line plot\n",
    "* Let's plot the frequency of each outcome by year (2013 - 2018)..."
   ]
  },
  {
   "cell_type": "code",
   "execution_count": null,
   "metadata": {
    "slideshow": {
     "slide_type": "fragment"
    }
   },
   "outputs": [],
   "source": [
    "# Get a list of unique outcomes\n",
    "outcomes = data['outcome'].unique()\n",
    "\n",
    "# Loop over outcomes and plot a line for each one\n",
    "for oc in outcomes:\n",
    "    # Get data subset for only this outcome\n",
    "    oc_data = data.query('outcome==@oc')\n",
    "    # Count number of events in each year\n",
    "    oc_count_by_year = oc_data.groupby('year')['outcome'].count()\n",
    "    # Plot a line--note the addition of the label, which will be\n",
    "    # used by the legend later.\n",
    "    plt.plot(oc_count_by_year, label=oc)\n",
    "\n",
    "# This works, but is a bit ugly... can we position it better?\n",
    "plt.legend()"
   ]
  },
  {
   "cell_type": "markdown",
   "metadata": {
    "slideshow": {
     "slide_type": "subslide"
    }
   },
   "source": [
    "#### Heatmap"
   ]
  },
  {
   "cell_type": "code",
   "execution_count": null,
   "metadata": {
    "slideshow": {
     "slide_type": "fragment"
    }
   },
   "outputs": [],
   "source": [
    "# # A heatmap of the crosstab we made earlier\n",
    "plt.imshow(nctab[:10], cmap='Blues')\n",
    "plt.yticks(np.arange(10), ctab[:10].index)\n",
    "plt.xticks(np.arange(8), ctab.columns, rotation=90)\n",
    "plt.colorbar();"
   ]
  },
  {
   "cell_type": "markdown",
   "metadata": {
    "slideshow": {
     "slide_type": "subslide"
    }
   },
   "source": [
    "### Less simple examples"
   ]
  },
  {
   "cell_type": "markdown",
   "metadata": {
    "slideshow": {
     "slide_type": "subslide"
    }
   },
   "source": [
    "#### Stacked bar plot\n",
    "* Let's write some custom code to generate a nice stacked bar plot\n",
    "* Later, we'll see how to do this with much less code"
   ]
  },
  {
   "cell_type": "code",
   "execution_count": null,
   "metadata": {
    "slideshow": {
     "slide_type": "fragment"
    }
   },
   "outputs": [],
   "source": [
    "# To prevent clutter, let's show bars only for breeds with > 200 occurrences\n",
    "min200 = dogs.groupby('breed').filter(lambda x: len(x) >= 200)\n",
    "\n",
    "ct = pd.crosstab(min200['breed'], min200['outcome'], normalize='index')\n",
    "\n",
    "n_breeds = ct.shape[0]\n",
    "breed_x = np.arange(n_breeds)\n",
    "labels = ct.columns\n",
    "n_bins = len(labels)\n",
    "\n",
    "# Set up figure\n",
    "plt.figure(figsize=(16, 6))\n",
    "\n",
    "# Set up colors--we use seaborn's color_palette utility for this\n",
    "colors = sns.color_palette('Set2', n_bins)\n",
    "\n",
    "# Plot the first color\n",
    "plt.bar(breed_x, ct.iloc[:, 0], label=labels[0], color=colors[0])\n",
    "\n",
    "# Plot the other colors\n",
    "for i in range(1, len(labels)):\n",
    "    bottom = ct.iloc[:, :(i-1)].sum(1)\n",
    "    plt.bar(breed_x, ct.iloc[:, i], label=labels[i],\n",
    "            bottom=bottom, color=colors[i])\n",
    "    \n",
    "# Add x-axis labels\n",
    "plt.xticks(np.arange(n_breeds), ct.index, rotation=90, fontsize=16);\n",
    "\n",
    "# Add the legend outside the plot.\n",
    "# The handles stuff is just to reverse the label order to match the bars\n",
    "# plt.legend(bbox_to_anchor=(1, 1), fontsize=20);\n",
    "\n",
    "# # A slightly more complicated version if we want to reverse the legend order\n",
    "# # to match the bars more closely\n",
    "handles, labels = plt.gca().get_legend_handles_labels()\n",
    "plt.legend(handles[::-1], labels[::-1], bbox_to_anchor=(1, 1), fontsize=20,);"
   ]
  },
  {
   "cell_type": "markdown",
   "metadata": {
    "slideshow": {
     "slide_type": "subslide"
    }
   },
   "source": [
    "### Customization in matplotlib\n",
    "* matplotlib is infinitely customizable\n",
    "* As in most modern plotting environments, you can do virtually anything\n",
    "* You just have to be willing to spend enough time on it"
   ]
  },
  {
   "cell_type": "markdown",
   "metadata": {
    "slideshow": {
     "slide_type": "subslide"
    }
   },
   "source": [
    "#### Matplotlib styles\n",
    "<img src=\"https://raw.githubusercontent.com/rasbt/matplotlib-gallery/master/images/formatting_4.png\">\n",
    "https://twitter.com/rasbt/status/731205324187795457"
   ]
  },
  {
   "cell_type": "code",
   "execution_count": null,
   "metadata": {
    "slideshow": {
     "slide_type": "slide"
    }
   },
   "outputs": [],
   "source": [
    "# A whole bunch of custom plotting code, just to generate\n",
    "# a relatively simple result.\n",
    "def plot_outcomes_by_time(data, unit='hour', min_unit=None, max_unit=None,\n",
    "                          animal=None, panel=None, agg_func='count'):\n",
    "    ''' Custom plotting functions that displays the number of\n",
    "    outcomes of each type as a function of a unit of time and\n",
    "    (optionally) any categorical variable.\n",
    "    '''\n",
    "    if animal is not None:\n",
    "        data = data[data['animal'].isin(animal)]\n",
    "    if panel is not None:\n",
    "        if panel == 'year':\n",
    "            panel_vars = [2014, 2015, 2016, 2017]\n",
    "        else:\n",
    "            panel_vars = data[panel].unique()\n",
    "        n_panels = len(panel_vars)\n",
    "        fig, axes = plt.subplots(1, n_panels, figsize=(5*n_panels, 4),\n",
    "                                 sharex=True, sharey=True)\n",
    "    else:\n",
    "        axes = [plt.gca()]\n",
    "\n",
    "    outcomes = ['Adoption', 'Transfer', 'Return to Owner', 'Euthanasia']\n",
    "    dummies = pd.get_dummies(data['outcome'])\n",
    "    data = pd.concat([data, dummies], axis=1)\n",
    "    \n",
    "    if min_unit is not None:\n",
    "        data = data[data[unit] >= min_unit]\n",
    "    if max_unit is not None:\n",
    "        data = data[data[unit] <= max_unit]\n",
    "    \n",
    "    for oc in outcomes:\n",
    "        groupers = [unit]\n",
    "        if panel is not None:\n",
    "            groupers.append(panel)\n",
    "        line = data.query('outcome==@oc')\\\n",
    "            .groupby(groupers)[oc].agg(agg_func).reset_index()\n",
    "        if panel is not None:\n",
    "            for i, pan in enumerate(panel_vars):\n",
    "                pan_line = line[line[panel]==pan]\n",
    "                axes[i].plot(pan_line[unit], pan_line[oc], label=oc, lw=3)\n",
    "                axes[i].set_title('{}: {}'.format(panel, pan), fontsize=18)\n",
    "                axes[i].set_xlabel(unit, fontsize=18)\n",
    "                axes[i].set_ylabel(\"No. of outcomes\", fontsize=18)\n",
    "    plt.legend(fontsize=16, loc='best')"
   ]
  },
  {
   "cell_type": "code",
   "execution_count": null,
   "metadata": {
    "slideshow": {
     "slide_type": "subslide"
    }
   },
   "outputs": [],
   "source": [
    "# Now we can flexibly call our custom plotter\n",
    "\n",
    "# Plot outcome counts by hour, paneling by animal\n",
    "plot_outcomes_by_time(data, animal=['Cat'], unit='hour', panel='year')\n",
    "\n",
    "# Plot outcome counts by day of week, only for dogs, paneling by year\n",
    "# plot_outcomes_by_time(data, animal=['Dog'], unit='day', panel='year')"
   ]
  },
  {
   "cell_type": "markdown",
   "metadata": {
    "slideshow": {
     "slide_type": "subslide"
    }
   },
   "source": [
    "### Alternative interfaces to matplotlib\n",
    "* Most of the time you don't want to spend three hours making a nice barplot\n",
    "* The appeal of packages like ggplot2 (in R) is power and elegance with speed\n",
    "* A number of high-level Python plotting packages built on matplotlib exist\n",
    "* You can always customize any plot after the fact"
   ]
  },
  {
   "cell_type": "markdown",
   "metadata": {
    "slideshow": {
     "slide_type": "skip"
    }
   },
   "source": [
    "### ggplot2 for Python\n",
    "* ggplot2 has been (mostly) ported to Python as [plotnine](https://github.com/has2k1/plotnine)\n",
    "* Syntax is very similar to ggplot2 in R"
   ]
  },
  {
   "cell_type": "code",
   "execution_count": null,
   "metadata": {
    "slideshow": {
     "slide_type": "skip"
    }
   },
   "outputs": [],
   "source": [
    "# Grouped bar plot with animal and outcome on x-axis and age on y-axis\n",
    "from plotnine import *\n",
    "ggplot(data, aes(x='animal', y='age', fill='outcome')) + geom_bar(stat='identity', position='dodge')"
   ]
  },
  {
   "cell_type": "markdown",
   "metadata": {
    "slideshow": {
     "slide_type": "subslide"
    }
   },
   "source": [
    "### Plotting in pandas\n",
    "* Pandas provides basic plotting functionality\n",
    "* Well-integrated with DataFrames\n",
    "* Often the easiest way to quickly explore the data"
   ]
  },
  {
   "cell_type": "markdown",
   "metadata": {
    "slideshow": {
     "slide_type": "subslide"
    }
   },
   "source": [
    "#### Visualizing distributions in pandas"
   ]
  },
  {
   "cell_type": "code",
   "execution_count": null,
   "metadata": {
    "slideshow": {
     "slide_type": "fragment"
    }
   },
   "outputs": [],
   "source": [
    "# To keep things simple, let's select only breeds with > 300 observations\n",
    "many_dogs = dogs.groupby('breed').filter(lambda x: len(x)>300)\n",
    "\n",
    "# Plot age histograms for all remaining breeds--with shared x-axis\n",
    "# to facilitate comparisons between breeds.\n",
    "many_dogs['age'].hist(by=many_dogs['breed'], bins=20, sharex=True);\n",
    "\n",
    "# Embiggen the figure a bit\n",
    "plt.gcf().set_size_inches((16, 16))"
   ]
  },
  {
   "cell_type": "markdown",
   "metadata": {
    "slideshow": {
     "slide_type": "subslide"
    }
   },
   "source": [
    "#### Stacked bars, the easy way"
   ]
  },
  {
   "cell_type": "code",
   "execution_count": null,
   "metadata": {
    "slideshow": {
     "slide_type": "subslide"
    }
   },
   "outputs": [],
   "source": [
    "# Our normalized cross-tab from earlier, with only breeds that\n",
    "# have a minimum of 200 observations\n",
    "min200 = dogs.groupby('breed').filter(lambda x: len(x) >= 200)\n",
    "ct = pd.crosstab(min200['breed'], min200['outcome'], normalize='index')\n",
    "\n",
    "# The same result, with much less code\n",
    "ct.plot.bar(stacked=True, fontsize=14, color=colors)\n",
    "\n",
    "# # Add the legend outside the plot\n",
    "plt.legend(bbox_to_anchor=(1, 1), fontsize=16)\n",
    "\n",
    "# # Resize everything\n",
    "plt.gcf().set_size_inches((12, 6))\n",
    "\n",
    "# # Ruh-roh! Ugly colors! Fortunately, we can manually pass in a list of\n",
    "# # colors to use via the colors argument to plot.bar(). We could reuse\n",
    "# # the color list we created earlier in seaborn, for example."
   ]
  },
  {
   "cell_type": "markdown",
   "metadata": {
    "slideshow": {
     "slide_type": "subslide"
    }
   },
   "source": [
    "## Plotting in seaborn\n",
    "* Seaborn is a high-level plotting library based on matplotlib\n",
    "* Designed to produce attractive figures in very little code\n",
    "* _Great_ [documentation](https://stanford.edu/~mwaskom/software/seaborn/index.html)\n",
    "* Most seaborn plotting functions accept pandas DataFrames\n",
    "* Complete customization of seaborn plots is possible using matplotlib"
   ]
  },
  {
   "cell_type": "markdown",
   "metadata": {
    "slideshow": {
     "slide_type": "subslide"
    }
   },
   "source": [
    "### Heatmaps"
   ]
  },
  {
   "cell_type": "code",
   "execution_count": null,
   "metadata": {
    "slideshow": {
     "slide_type": "fragment"
    }
   },
   "outputs": [],
   "source": [
    "# The same contingency table from earlier.\n",
    "\n",
    "ax = sns.heatmap(ctab[:12], annot=True, fmt='d', linewidths=.5,\n",
    "                 annot_kws={'size': 14}, cmap='Blues')\n",
    "\n",
    "# Customize the label size and figure size in base matplotlib.\n",
    "# Notice we can access all axis and figure properties through\n",
    "# # the handle we saved when calling seaborn.\n",
    "ax.tick_params(labelsize=14)\n",
    "ax.figure.set_size_inches((7, 8))  # update the plot size"
   ]
  },
  {
   "cell_type": "markdown",
   "metadata": {
    "slideshow": {
     "slide_type": "subslide"
    }
   },
   "source": [
    "#### Pairwise correlations between all numeric variables in the dataset"
   ]
  },
  {
   "cell_type": "code",
   "execution_count": null,
   "metadata": {
    "slideshow": {
     "slide_type": "fragment"
    }
   },
   "outputs": [],
   "source": [
    "# Plot a heatmap of pairwise correlations between all continuous variables\n",
    "r = data.query('animal==\"Dog\"').corr().round(2)\n",
    "\n",
    "with sns.plotting_context(\"notebook\", font_scale=1.1):\n",
    "    ax = sns.heatmap(r, annot=True)\n",
    "    ax.figure.set_size_inches((12, 9.5))"
   ]
  },
  {
   "cell_type": "markdown",
   "metadata": {
    "slideshow": {
     "slide_type": "subslide"
    }
   },
   "source": [
    "* Don't like the color palette (`cmap` argument)? Pick a [different one](https://matplotlib.org/examples/color/colormaps_reference.html)!\n",
    "* Looks like the weight and height variables are almost completely redundant\n",
    "* Why do month and year show a strong negative correlation (-0.37)?\n",
    "* Illustrates the need for caution\n",
    "    * Most \"interesting\" findings turn out to have banal explanations!"
   ]
  },
  {
   "cell_type": "markdown",
   "metadata": {
    "slideshow": {
     "slide_type": "subslide"
    }
   },
   "source": [
    "### Pair plots\n",
    "* Systematic inspection of pairwise relationships is very useful\n",
    "* We've established that some breeds have very different outcomes\n",
    "* How do outcomes relate to one another at the breed level?\n",
    "    * Do some outcomes trade off against others?"
   ]
  },
  {
   "cell_type": "code",
   "execution_count": null,
   "metadata": {
    "slideshow": {
     "slide_type": "subslide"
    }
   },
   "outputs": [],
   "source": [
    "# Breed-level correlations between different outcomes and traits\n",
    "\n",
    "# Restrict to breed with minimum 50 dogs and outcomes with min. 200 occurrences\n",
    "tmp_data = data.query('animal==\"Dog\"')\n",
    "tmp_data = tmp_data.groupby('outcome').filter(lambda x: len(x) >= 200)\n",
    "tmp_data = tmp_data.groupby('breed').filter(lambda x: len(x) >= 50)\n",
    "\n",
    "# Dummy-code the outcomes as binary indicators and concatenate with original data\n",
    "outcomes = pd.get_dummies(tmp_data['outcome'])\n",
    "tmp_data = pd.concat([tmp_data, outcomes], axis=1)\n",
    "\n",
    "# Group by breed and calculate means\n",
    "tmp_data = tmp_data.groupby('breed').mean().dropna().reset_index()\n",
    "tmp_data = tmp_data[['Adoption', 'Euthanasia', 'Return to Owner', 'Transfer']]\n",
    "dog_breed_means = tmp_data  # Save for later\n",
    "\n",
    "# The actual plot ting code is just this\n",
    "with sns.plotting_context(\"notebook\", font_scale=1.3):  # Make text bigger\n",
    "    sns.pairplot(tmp_data, diag_kind='kde', kind='reg')"
   ]
  },
  {
   "cell_type": "markdown",
   "metadata": {
    "slideshow": {
     "slide_type": "subslide"
    }
   },
   "source": [
    "### Bar plots\n",
    "* Let's explore how outcomes differ as a function of the variables in our dataset\n",
    "* We'll start by visualizing the raw counts for different animals"
   ]
  },
  {
   "cell_type": "code",
   "execution_count": null,
   "metadata": {
    "slideshow": {
     "slide_type": "fragment"
    }
   },
   "outputs": [],
   "source": [
    "# Probably no point in keeping livestock and birds!\n",
    "tmp_data = data.query('animal in [\"Cat\", \"Dog\", \"Other\"]')\n",
    "# And also, let's get rid of outcomes with fewer than 500 entries\n",
    "# Remember this filtering step from Day 2?\n",
    "tmp_data = tmp_data.groupby('outcome').filter(lambda x: len(x) >= 500)\n",
    "x_var = 'outcome'\n",
    "panel_var = 'animal' \n",
    "g = sns.factorplot(x=x_var, data=tmp_data, col=panel_var, kind='count')\n",
    "g.set_xticklabels(rotation=45);"
   ]
  },
  {
   "cell_type": "markdown",
   "metadata": {
    "slideshow": {
     "slide_type": "skip"
    }
   },
   "source": [
    "The previous plot is kind of useful, so let's abstract it into a method. Then we can do the same thing (even more) quickly for other combinations of variables."
   ]
  },
  {
   "cell_type": "code",
   "execution_count": null,
   "metadata": {
    "slideshow": {
     "slide_type": "skip"
    }
   },
   "outputs": [],
   "source": [
    "def aac_factorplot(data, x, facet, y=None, kind='count'):\n",
    "    g = sns.factorplot(x=x, data=data, y=y, col=facet, kind=kind)\n",
    "    g.set_xticklabels(rotation=90)\n",
    "\n",
    "# Let's restrict analysis to only full-year data.\n",
    "years = [2014, 2015, 2016, 2017]\n",
    "full_years = tmp_data.query('year in @years')\n",
    "aac_factorplot(full_years, 'outcome', 'year')"
   ]
  },
  {
   "cell_type": "markdown",
   "metadata": {
    "slideshow": {
     "slide_type": "skip"
    }
   },
   "source": [
    "#### Do temporal variables matter?\n",
    "* We might expect day of the week to matter"
   ]
  },
  {
   "cell_type": "code",
   "execution_count": null,
   "metadata": {
    "scrolled": true,
    "slideshow": {
     "slide_type": "skip"
    }
   },
   "outputs": [],
   "source": [
    "tmp_data = data[data['animal'].isin(['Dog', 'Cat'])]\n",
    "tmp_data = tmp_data.groupby('outcome').filter(lambda x: len(x) >= 1000)\n",
    "sns.factorplot(x='animal', data=tmp_data, hue='outcome', col='day', kind='count') ;"
   ]
  },
  {
   "cell_type": "markdown",
   "metadata": {
    "slideshow": {
     "slide_type": "skip"
    }
   },
   "source": [
    "#### What about age?"
   ]
  },
  {
   "cell_type": "code",
   "execution_count": null,
   "metadata": {
    "slideshow": {
     "slide_type": "skip"
    }
   },
   "outputs": [],
   "source": [
    "tmp_data = data[data['animal'].isin(['Dog', 'Cat'])]\n",
    "tmp_data = data.query('year > 2013 and year < 2017')\n",
    "tmp_data = tmp_data.groupby('outcome').filter(lambda x: len(x) >= 500)\n",
    "sns.factorplot(x='animal', y='age', data=tmp_data, hue='outcome', col='year', kind='bar');"
   ]
  },
  {
   "cell_type": "markdown",
   "metadata": {
    "slideshow": {
     "slide_type": "skip"
    }
   },
   "source": [
    "#### Color?"
   ]
  },
  {
   "cell_type": "code",
   "execution_count": null,
   "metadata": {
    "scrolled": false,
    "slideshow": {
     "slide_type": "skip"
    }
   },
   "outputs": [],
   "source": [
    "# Restrict to just dogs\n",
    "tmp_data = data[data['animal'].isin(['Dog'])]\n",
    "\n",
    "# Filter on colors with more than 200 rows and outcomes with more than 500\n",
    "tmp_data = tmp_data.groupby('first_color').filter(lambda x: len(x) >= 200)\n",
    "tmp_data = tmp_data.groupby('outcome').filter(lambda x: len(x) >= 500)\n",
    "\n",
    "# Plot!\n",
    "sns.factorplot(x='outcome', data=tmp_data, hue='first_color', kind='count')\n",
    "plt.gcf().set_size_inches((12, 4))\n",
    "\n",
    "# It would be nice if the colors matched the labels, but that would be more work..."
   ]
  },
  {
   "cell_type": "markdown",
   "metadata": {
    "slideshow": {
     "slide_type": "subslide"
    }
   },
   "source": [
    "### What about uncertainty?\n",
    "* Thus far we've almost completely ignored estimation uncertainty\n",
    "* Good visualization represents uncertainty in a clear way\n",
    "* E.g., error bars, comparison distributions, etc."
   ]
  },
  {
   "cell_type": "markdown",
   "metadata": {
    "slideshow": {
     "slide_type": "subslide"
    }
   },
   "source": [
    "#### Breed age with error bars in matplotlib"
   ]
  },
  {
   "cell_type": "code",
   "execution_count": null,
   "metadata": {
    "slideshow": {
     "slide_type": "fragment"
    }
   },
   "outputs": [],
   "source": [
    "# Group by breed and get mean, standard deviation, and count for each breed\n",
    "age_data = data.groupby('breed_name')['age'].aggregate(['mean', 'std', 'count'])\n",
    "age_data['95ci'] = age_data['std']/np.sqrt(age_data['count'])\n",
    "\n",
    "# Let's pick 30 random breeds, otherwise the plot will be too big\n",
    "select_inds = np.random.choice(age_data.index, size=30)\n",
    "age_data = age_data.loc[select_inds, :]\n",
    "\n",
    "# Sort by ascending mean age\n",
    "age_data = age_data.sort_values('mean')\n",
    "\n",
    "# Rotate and align labels. Maybe place them at 45 degrees?\n",
    "plt.xticks(rotation='vertical', fontsize=12)\n",
    "\n",
    "# Bar plot with error bars\n",
    "plt.bar(x=age_data.index, height=age_data['mean'], yerr=age_data['95ci'])\n",
    "\n",
    "# Add y-axis label and title\n",
    "plt.ylabel(\"Mean age (months)\", fontsize=16)\n",
    "\n",
    "# Title\n",
    "plt.title(\"Mean age of AAC dogs, by breed\", fontsize=18)\n",
    "\n",
    "# Resize for legibility\n",
    "plt.gcf().set_size_inches(12, 4)"
   ]
  },
  {
   "cell_type": "markdown",
   "metadata": {
    "slideshow": {
     "slide_type": "subslide"
    }
   },
   "source": [
    "#### Animal age with bootstrapped CIs in seaborn\n",
    "* Let's estimate the mean age of different dog breeds, broken down by outcome and day of week\n",
    "* By default, many seaborn plotting commands will bootstrap 95% confidence intervals"
   ]
  },
  {
   "cell_type": "code",
   "execution_count": null,
   "metadata": {
    "slideshow": {
     "slide_type": "fragment"
    }
   },
   "outputs": [],
   "source": [
    "# Only dogs, cats, and other; the rest have too few observations\n",
    "tmp_data = data.query('animal==\"Dog\"')\n",
    "\n",
    "# Only the most common breeds\n",
    "tmp_data = tmp_data.groupby('breed').filter(lambda x: len(x) >= 1000)\n",
    "\n",
    "# Drop infrequent outcomes\n",
    "tmp_data = tmp_data.groupby('outcome').filter(lambda x: len(x) >= 500)\n",
    "\n",
    "# Display age in years\n",
    "tmp_data['age'] /= 12.0\n",
    "\n",
    "# Plot mean age by outcome on x-axis and separate columns for breeds\n",
    "g = sns.factorplot(x='outcome', data=tmp_data, y='age', col='breed')\n",
    "g.set_xticklabels(rotation=90, fontsize=16);\n",
    "\n",
    "# In-class exercise: compare the result with what we'd get\n",
    "# without error bars. Would the conclusions we draw from the\n",
    "# data change? What about if we add in some less frequent\n",
    "# outcomes, breeds, etc.?"
   ]
  },
  {
   "cell_type": "markdown",
   "metadata": {
    "slideshow": {
     "slide_type": "slide"
    }
   },
   "source": [
    "# Statistical analysis\n",
    "* Python is historically not widely used for traditional statistics\n",
    "    * It's improving fast, but will probably never catch up to R\n",
    "* But it has decent support for many common techniques"
   ]
  },
  {
   "cell_type": "markdown",
   "metadata": {
    "slideshow": {
     "slide_type": "subslide"
    }
   },
   "source": [
    "## Statistical tools in SciPy\n",
    "* The SciPy package includes a well-developed [stats module](http://docs.scipy.org/doc/scipy/reference/stats.html)\n",
    "* Caters more to computational scientists than end users\n",
    "    * Interface is heavily object-oriented\n",
    "    * You usually have to take the extra step yourself\n",
    "    * Performance is very good, but interface is clunky"
   ]
  },
  {
   "cell_type": "markdown",
   "metadata": {
    "slideshow": {
     "slide_type": "subslide"
    }
   },
   "source": [
    "### Lots of descriptives and convenience functions"
   ]
  },
  {
   "cell_type": "code",
   "execution_count": null,
   "metadata": {
    "slideshow": {
     "slide_type": "fragment"
    }
   },
   "outputs": [],
   "source": [
    "# Descriptive statistics for age in months\n",
    "print(stats.describe(data['age'].dropna()))"
   ]
  },
  {
   "cell_type": "code",
   "execution_count": null,
   "metadata": {},
   "outputs": [],
   "source": [
    "# Plenty of little convenience functions\n",
    "age = 60\n",
    "percentile = stats.percentileofscore(data['age'], age)\n",
    "print(\"\\nA {}-month old animal is at the {:.0f}th percentile.\".format(age, percentile)) "
   ]
  },
  {
   "cell_type": "markdown",
   "metadata": {
    "slideshow": {
     "slide_type": "subslide"
    }
   },
   "source": [
    "### Distributions a-plenty\n",
    "* Large number of statistical [distributions](http://docs.scipy.org/doc/scipy/reference/stats.html#continuous-distributions)\n",
    "* All of the standard distribution functions (pdf, cdf, random sampling, etc.) "
   ]
  },
  {
   "cell_type": "code",
   "execution_count": null,
   "metadata": {
    "slideshow": {
     "slide_type": "fragment"
    }
   },
   "outputs": [],
   "source": [
    "# Sample 100000 observations...\n",
    "n = 100000\n",
    "\n",
    "# ...from each of the normal, t(10), and beta(2, 5) distributions\n",
    "normal = stats.norm.rvs(size=n)\n",
    "t = stats.t.rvs(df=10, size=n)\n",
    "beta = stats.beta.rvs(a=2, b=5, loc=-2, scale=6, size=n)\n",
    "\n",
    "# Set up figure\n",
    "ax = plt.figure(figsize=(6, 4)).gca()\n",
    "\n",
    "# Plot a kde plot of each distribution\n",
    "labels = ['t', 'normal', 'beta']\n",
    "for i, dist in enumerate([t, normal, beta]):\n",
    "    sns.kdeplot(dist, ax=ax, lw=2, label=labels[i])\n"
   ]
  },
  {
   "cell_type": "code",
   "execution_count": null,
   "metadata": {
    "slideshow": {
     "slide_type": "fragment"
    }
   },
   "outputs": [],
   "source": [
    "# Use CDF of normal to convert p-values to z-scores\n",
    "print(stats.norm.ppf(0.001))"
   ]
  },
  {
   "cell_type": "code",
   "execution_count": null,
   "metadata": {
    "slideshow": {
     "slide_type": "fragment"
    }
   },
   "outputs": [],
   "source": [
    "# t statistic to p-value\n",
    "print(stats.t.cdf(1.46, df=22))"
   ]
  },
  {
   "cell_type": "code",
   "execution_count": null,
   "metadata": {
    "slideshow": {
     "slide_type": "fragment"
    }
   },
   "outputs": [],
   "source": [
    "# Endpoints of interval containing 90% of distribution\n",
    "print(stats.beta.interval(0.9, a=2, b=5))"
   ]
  },
  {
   "cell_type": "markdown",
   "metadata": {
    "slideshow": {
     "slide_type": "subslide"
    }
   },
   "source": [
    "### Basic tests\n",
    "* You can do things like t-tests and ANOVAs with SciPy if you really want\n",
    "* But there are more pleasant ways"
   ]
  },
  {
   "cell_type": "code",
   "execution_count": null,
   "metadata": {
    "slideshow": {
     "slide_type": "fragment"
    }
   },
   "outputs": [],
   "source": [
    "# Independent samples t-test: do cats and dogs processed at the center differ in age?\n",
    "\n",
    "# Extract \n",
    "dog_age = data.query('animal==\"Dog\"')['age'].dropna()\n",
    "cat_age = data.query('animal==\"Cat\"')['age'].dropna()\n",
    "\n",
    "# ttest_ind returns a tuple of t and p values\n",
    "t, p = stats.ttest_ind(dog_age, cat_age)\n",
    "\n",
    "# Report means as well\n",
    "dm, cm = dog_age.mean(), cat_age.mean()\n",
    "\n",
    "# Print something for the user\n",
    "print(\"Dogs (mean = {:.2f}) vs. Cats (mean = {:.2f}), t = {:.2f}, p={:.2g}\".format(dm, cm, t, p))"
   ]
  },
  {
   "cell_type": "markdown",
   "metadata": {
    "slideshow": {
     "slide_type": "subslide"
    }
   },
   "source": [
    "## [Statsmodels](http://statsmodels.sourceforge.net/devel/index.html#)\n",
    "* Python's answer to base R\n",
    "* It's not a great answer\n",
    "* But it's getting there, and things [move quickly](https://github.com/statsmodels/statsmodels/issues)\n",
    "* For common procedures, functionality is very similar to R"
   ]
  },
  {
   "cell_type": "markdown",
   "metadata": {
    "slideshow": {
     "slide_type": "subslide"
    }
   },
   "source": [
    "### What's in statsmodels\n",
    "* Basic tests\n",
    "* Linear models\n",
    "* Diagnostics and specification tests\n",
    "* Power calculations\n",
    "* Multiple comparisons correction\n",
    "* Time-series analysis\n",
    "* Experimental support for many other things (e.g. mixed-effects models)"
   ]
  },
  {
   "cell_type": "markdown",
   "metadata": {
    "slideshow": {
     "slide_type": "subslide"
    }
   },
   "source": [
    "### Statsmodel examples\n",
    "* Let's build a model to predict whether an animal is euthanized or not\n",
    "* We'll use logistic regression using the formula interface\n",
    "* We'll start by predicting euthanasia from just age, sex, and sterilization"
   ]
  },
  {
   "cell_type": "code",
   "execution_count": null,
   "metadata": {
    "slideshow": {
     "slide_type": "subslide"
    }
   },
   "outputs": [],
   "source": [
    "import statsmodels.formula.api as smf\n",
    "\n",
    "# Drop missing values from analysis\n",
    "tmp_data = data[['outcome', 'age', 'sex', 'sterilized']].dropna()\n",
    "print(\"Kept {} observations.\".format(len(tmp_data)))\n",
    "\n",
    "# # The dependent variable: whether the animal was euthanized\n",
    "tmp_data['y'] = (tmp_data['outcome'] == 'Euthanasia').astype(int)\n",
    "\n",
    "# Specify the model with a formula\n",
    "model = smf.logit('y ~ age + sex * sterilized', data=tmp_data)\n",
    "\n",
    "# Fit model and save result\n",
    "result = model.fit()\n",
    "\n",
    "# Print a user-friendly summary\n",
    "result.summary()\n"
   ]
  },
  {
   "cell_type": "markdown",
   "metadata": {
    "slideshow": {
     "slide_type": "subslide"
    }
   },
   "source": [
    "### Adding categorical predictors\n",
    "* Old animals are more likely to be euthanized\n",
    "* Is this explained by differences in species, breed, etc.?\n",
    "* We can add categorical predictors either by:\n",
    "    * Constructing the dummy variables ourselves (e.g., with pandas)\n",
    "    * Using the patsy module to do it in an R-like way"
   ]
  },
  {
   "cell_type": "code",
   "execution_count": 119,
   "metadata": {
    "slideshow": {
     "slide_type": "subslide"
    }
   },
   "outputs": [
    {
     "name": "stdout",
     "output_type": "stream",
     "text": [
      "Warning: Maximum number of iterations has been exceeded.\n",
      "         Current function value: 0.147986\n",
      "         Iterations: 35\n"
     ]
    },
    {
     "name": "stderr",
     "output_type": "stream",
     "text": [
      "/Users/tal/miniconda3/envs/base/lib/python3.6/site-packages/statsmodels/base/model.py:508: ConvergenceWarning: Maximum Likelihood optimization failed to converge. Check mle_retvals\n",
      "  \"Check mle_retvals\", ConvergenceWarning)\n",
      "/Users/tal/miniconda3/envs/base/lib/python3.6/site-packages/statsmodels/base/model.py:1092: RuntimeWarning: invalid value encountered in sqrt\n",
      "  bse_ = np.sqrt(np.diag(self.cov_params()))\n",
      "/Users/tal/miniconda3/envs/base/lib/python3.6/site-packages/scipy/stats/_distn_infrastructure.py:879: RuntimeWarning: invalid value encountered in greater\n",
      "  return (self.a < x) & (x < self.b)\n",
      "/Users/tal/miniconda3/envs/base/lib/python3.6/site-packages/scipy/stats/_distn_infrastructure.py:879: RuntimeWarning: invalid value encountered in less\n",
      "  return (self.a < x) & (x < self.b)\n",
      "/Users/tal/miniconda3/envs/base/lib/python3.6/site-packages/scipy/stats/_distn_infrastructure.py:1821: RuntimeWarning: invalid value encountered in less_equal\n",
      "  cond2 = cond0 & (x <= self.a)\n"
     ]
    },
    {
     "data": {
      "text/html": [
       "<table class=\"simpletable\">\n",
       "<caption>Logit Regression Results</caption>\n",
       "<tr>\n",
       "  <th>Dep. Variable:</th>         <td>y</td>        <th>  No. Observations:  </th>   <td> 29351</td>  \n",
       "</tr>\n",
       "<tr>\n",
       "  <th>Model:</th>               <td>Logit</td>      <th>  Df Residuals:      </th>   <td> 29294</td>  \n",
       "</tr>\n",
       "<tr>\n",
       "  <th>Method:</th>               <td>MLE</td>       <th>  Df Model:          </th>   <td>    56</td>  \n",
       "</tr>\n",
       "<tr>\n",
       "  <th>Date:</th>          <td>Wed, 23 May 2018</td> <th>  Pseudo R-squ.:     </th>   <td>0.1414</td>  \n",
       "</tr>\n",
       "<tr>\n",
       "  <th>Time:</th>              <td>12:30:14</td>     <th>  Log-Likelihood:    </th>  <td> -4343.5</td> \n",
       "</tr>\n",
       "<tr>\n",
       "  <th>converged:</th>           <td>False</td>      <th>  LL-Null:           </th>  <td> -5058.8</td> \n",
       "</tr>\n",
       "<tr>\n",
       "  <th> </th>                      <td> </td>        <th>  LLR p-value:       </th> <td>2.669e-262</td>\n",
       "</tr>\n",
       "</table>\n",
       "<table class=\"simpletable\">\n",
       "<tr>\n",
       "                       <td></td>                          <th>coef</th>     <th>std err</th>      <th>z</th>      <th>P>|z|</th>  <th>[0.025</th>    <th>0.975]</th>  \n",
       "</tr>\n",
       "<tr>\n",
       "  <th>Intercept</th>                                   <td>   -2.3782</td> <td>    0.644</td> <td>   -3.695</td> <td> 0.000</td> <td>   -3.640</td> <td>   -1.117</td>\n",
       "</tr>\n",
       "<tr>\n",
       "  <th>breed[T.American Pit Bull Terrier Mix]</th>      <td>    0.4208</td> <td>    0.624</td> <td>    0.674</td> <td> 0.500</td> <td>   -0.802</td> <td>    1.644</td>\n",
       "</tr>\n",
       "<tr>\n",
       "  <th>breed[T.American Staffordshire Terrier Mix]</th> <td>    0.5706</td> <td>    0.600</td> <td>    0.951</td> <td> 0.341</td> <td>   -0.605</td> <td>    1.746</td>\n",
       "</tr>\n",
       "<tr>\n",
       "  <th>breed[T.Anatol Shepherd Mix]</th>                <td>   -1.6216</td> <td>    0.879</td> <td>   -1.845</td> <td> 0.065</td> <td>   -3.345</td> <td>    0.101</td>\n",
       "</tr>\n",
       "<tr>\n",
       "  <th>breed[T.Australian Cattle Dog Mix]</th>          <td>   -0.5472</td> <td>    0.544</td> <td>   -1.006</td> <td> 0.314</td> <td>   -1.613</td> <td>    0.519</td>\n",
       "</tr>\n",
       "<tr>\n",
       "  <th>breed[T.Australian Kelpie Mix]</th>              <td>   -0.9235</td> <td>    0.730</td> <td>   -1.266</td> <td> 0.206</td> <td>   -2.353</td> <td>    0.506</td>\n",
       "</tr>\n",
       "<tr>\n",
       "  <th>breed[T.Australian Shepherd Mix]</th>            <td>   -0.4958</td> <td>    0.429</td> <td>   -1.156</td> <td> 0.248</td> <td>   -1.336</td> <td>    0.345</td>\n",
       "</tr>\n",
       "<tr>\n",
       "  <th>breed[T.Basset Hound Mix]</th>                   <td>   -0.2026</td> <td>    0.662</td> <td>   -0.306</td> <td> 0.759</td> <td>   -1.500</td> <td>    1.094</td>\n",
       "</tr>\n",
       "<tr>\n",
       "  <th>breed[T.Beagle Mix]</th>                         <td>   -1.2912</td> <td>    0.665</td> <td>   -1.941</td> <td> 0.052</td> <td>   -2.595</td> <td>    0.012</td>\n",
       "</tr>\n",
       "<tr>\n",
       "  <th>breed[T.Black Mouth Cur Mix]</th>                <td>   -0.8792</td> <td>    0.757</td> <td>   -1.161</td> <td> 0.246</td> <td>   -2.363</td> <td>    0.605</td>\n",
       "</tr>\n",
       "<tr>\n",
       "  <th>breed[T.Border Collie Mix]</th>                  <td>   -0.6315</td> <td>    0.540</td> <td>   -1.169</td> <td> 0.242</td> <td>   -1.690</td> <td>    0.427</td>\n",
       "</tr>\n",
       "<tr>\n",
       "  <th>breed[T.Border Terrier Mix]</th>                 <td>  -15.3245</td> <td>  966.452</td> <td>   -0.016</td> <td> 0.987</td> <td>-1909.536</td> <td> 1878.887</td>\n",
       "</tr>\n",
       "<tr>\n",
       "  <th>breed[T.Boxer Mix]</th>                          <td>   -0.2238</td> <td>    0.551</td> <td>   -0.406</td> <td> 0.684</td> <td>   -1.303</td> <td>    0.856</td>\n",
       "</tr>\n",
       "<tr>\n",
       "  <th>breed[T.Cairn Terrier Mix]</th>                  <td>   -1.0784</td> <td>    0.740</td> <td>   -1.458</td> <td> 0.145</td> <td>   -2.528</td> <td>    0.371</td>\n",
       "</tr>\n",
       "<tr>\n",
       "  <th>breed[T.Catahoula Mix]</th>                      <td>   -0.3521</td> <td>    0.559</td> <td>   -0.629</td> <td> 0.529</td> <td>   -1.449</td> <td>    0.744</td>\n",
       "</tr>\n",
       "<tr>\n",
       "  <th>breed[T.Chihuahua Longhair Mix]</th>             <td>   -0.7881</td> <td>    0.529</td> <td>   -1.490</td> <td> 0.136</td> <td>   -1.824</td> <td>    0.248</td>\n",
       "</tr>\n",
       "<tr>\n",
       "  <th>breed[T.Chihuahua Shorthair]</th>                <td>   -1.2950</td> <td>    0.277</td> <td>   -4.680</td> <td> 0.000</td> <td>   -1.837</td> <td>   -0.753</td>\n",
       "</tr>\n",
       "<tr>\n",
       "  <th>breed[T.Chihuahua Shorthair Mix]</th>            <td>   -0.6923</td> <td>    0.531</td> <td>   -1.305</td> <td> 0.192</td> <td>   -1.732</td> <td>    0.348</td>\n",
       "</tr>\n",
       "<tr>\n",
       "  <th>breed[T.Chihuahua Shorthair/Dachshund]</th>      <td>   -1.2303</td> <td>    0.760</td> <td>   -1.620</td> <td> 0.105</td> <td>   -2.719</td> <td>    0.258</td>\n",
       "</tr>\n",
       "<tr>\n",
       "  <th>breed[T.Chow Chow Mix]</th>                      <td>    0.4916</td> <td>    0.556</td> <td>    0.885</td> <td> 0.376</td> <td>   -0.597</td> <td>    1.581</td>\n",
       "</tr>\n",
       "<tr>\n",
       "  <th>breed[T.Cocker Spaniel Mix]</th>                 <td>   -0.6681</td> <td>    0.604</td> <td>   -1.107</td> <td> 0.268</td> <td>   -1.851</td> <td>    0.515</td>\n",
       "</tr>\n",
       "<tr>\n",
       "  <th>breed[T.Dachshund Mix]</th>                      <td>   -1.0225</td> <td>    0.504</td> <td>   -2.030</td> <td> 0.042</td> <td>   -2.010</td> <td>   -0.035</td>\n",
       "</tr>\n",
       "<tr>\n",
       "  <th>breed[T.Dachshund/Chihuahua Shorthair]</th>      <td>   -0.3596</td> <td>    0.696</td> <td>   -0.516</td> <td> 0.606</td> <td>   -1.724</td> <td>    1.005</td>\n",
       "</tr>\n",
       "<tr>\n",
       "  <th>breed[T.Doberman Pinsch Mix]</th>                <td>   -0.0161</td> <td>    0.658</td> <td>   -0.024</td> <td> 0.981</td> <td>   -1.306</td> <td>    1.273</td>\n",
       "</tr>\n",
       "<tr>\n",
       "  <th>breed[T.German Shepherd]</th>                    <td>   -0.3426</td> <td>    0.551</td> <td>   -0.622</td> <td> 0.534</td> <td>   -1.423</td> <td>    0.738</td>\n",
       "</tr>\n",
       "<tr>\n",
       "  <th>breed[T.German Shepherd Mix]</th>                <td>   -0.5937</td> <td>    0.532</td> <td>   -1.116</td> <td> 0.264</td> <td>   -1.636</td> <td>    0.449</td>\n",
       "</tr>\n",
       "<tr>\n",
       "  <th>breed[T.German Shepherd/Labrador Retriever]</th> <td>    0.3447</td> <td>    0.646</td> <td>    0.534</td> <td> 0.594</td> <td>   -0.921</td> <td>    1.611</td>\n",
       "</tr>\n",
       "<tr>\n",
       "  <th>breed[T.Golden Retriever Mix]</th>               <td>   -1.6252</td> <td>    0.877</td> <td>   -1.853</td> <td> 0.064</td> <td>   -3.345</td> <td>    0.094</td>\n",
       "</tr>\n",
       "<tr>\n",
       "  <th>breed[T.Great Pyrenees Mix]</th>                 <td>   -0.8478</td> <td>    0.626</td> <td>   -1.354</td> <td> 0.176</td> <td>   -2.075</td> <td>    0.379</td>\n",
       "</tr>\n",
       "<tr>\n",
       "  <th>breed[T.Jack Russell Terrier Mix]</th>           <td>   -1.0049</td> <td>    0.627</td> <td>   -1.603</td> <td> 0.109</td> <td>   -2.233</td> <td>    0.224</td>\n",
       "</tr>\n",
       "<tr>\n",
       "  <th>breed[T.Labrador Retriever]</th>                 <td>   -1.3054</td> <td>    0.730</td> <td>   -1.788</td> <td> 0.074</td> <td>   -2.736</td> <td>    0.126</td>\n",
       "</tr>\n",
       "<tr>\n",
       "  <th>breed[T.Labrador Retriever Mix]</th>             <td>   -0.6628</td> <td>    0.531</td> <td>   -1.249</td> <td> 0.212</td> <td>   -1.703</td> <td>    0.378</td>\n",
       "</tr>\n",
       "<tr>\n",
       "  <th>breed[T.Labrador Retriever/German Shepherd]</th> <td>   -0.0151</td> <td>    0.699</td> <td>   -0.022</td> <td> 0.983</td> <td>   -1.385</td> <td>    1.355</td>\n",
       "</tr>\n",
       "<tr>\n",
       "  <th>breed[T.Labrador Retriever/Pit Bull]</th>        <td>    0.1724</td> <td>    0.615</td> <td>    0.280</td> <td> 0.779</td> <td>   -1.033</td> <td>    1.377</td>\n",
       "</tr>\n",
       "<tr>\n",
       "  <th>breed[T.Lhasa Apso Mix]</th>                     <td>   -1.3124</td> <td>    0.756</td> <td>   -1.736</td> <td> 0.083</td> <td>   -2.794</td> <td>    0.170</td>\n",
       "</tr>\n",
       "<tr>\n",
       "  <th>breed[T.Maltese Mix]</th>                        <td>   -1.2173</td> <td>    0.645</td> <td>   -1.888</td> <td> 0.059</td> <td>   -2.481</td> <td>    0.047</td>\n",
       "</tr>\n",
       "<tr>\n",
       "  <th>breed[T.Miniature Pinscher Mix]</th>             <td>  -19.4761</td> <td> 5459.962</td> <td>   -0.004</td> <td> 0.997</td> <td>-1.07e+04</td> <td> 1.07e+04</td>\n",
       "</tr>\n",
       "<tr>\n",
       "  <th>breed[T.Miniature Poodle Mix]</th>               <td>   -0.9173</td> <td>    0.357</td> <td>   -2.569</td> <td> 0.010</td> <td>   -1.617</td> <td>   -0.218</td>\n",
       "</tr>\n",
       "<tr>\n",
       "  <th>breed[T.Miniature Schnauzer Mix]</th>            <td>   -1.1750</td> <td>    0.576</td> <td>   -2.041</td> <td> 0.041</td> <td>   -2.303</td> <td>   -0.047</td>\n",
       "</tr>\n",
       "<tr>\n",
       "  <th>breed[T.Pit Bull]</th>                           <td>    0.5900</td> <td>    0.459</td> <td>    1.287</td> <td> 0.198</td> <td>   -0.309</td> <td>    1.489</td>\n",
       "</tr>\n",
       "<tr>\n",
       "  <th>breed[T.Pit Bull Mix]</th>                       <td>    0.5006</td> <td>    0.522</td> <td>    0.960</td> <td> 0.337</td> <td>   -0.522</td> <td>    1.523</td>\n",
       "</tr>\n",
       "<tr>\n",
       "  <th>breed[T.Plott Hound Mix]</th>                    <td>   -0.6863</td> <td>    0.697</td> <td>   -0.985</td> <td> 0.325</td> <td>   -2.053</td> <td>    0.680</td>\n",
       "</tr>\n",
       "<tr>\n",
       "  <th>breed[T.Pointer Mix]</th>                        <td>   -1.6484</td> <td>    0.870</td> <td>   -1.894</td> <td> 0.058</td> <td>   -3.354</td> <td>    0.057</td>\n",
       "</tr>\n",
       "<tr>\n",
       "  <th>breed[T.Pomeranian Mix]</th>                     <td>   -2.5920</td> <td>    1.097</td> <td>   -2.363</td> <td> 0.018</td> <td>   -4.742</td> <td>   -0.442</td>\n",
       "</tr>\n",
       "<tr>\n",
       "  <th>breed[T.Pug Mix]</th>                            <td>   -2.3682</td> <td>    1.081</td> <td>   -2.190</td> <td> 0.029</td> <td>   -4.487</td> <td>   -0.249</td>\n",
       "</tr>\n",
       "<tr>\n",
       "  <th>breed[T.Queensland Heeler Mix]</th>              <td>   -0.6917</td> <td>    0.640</td> <td>   -1.082</td> <td> 0.279</td> <td>   -1.945</td> <td>    0.562</td>\n",
       "</tr>\n",
       "<tr>\n",
       "  <th>breed[T.Rat Terrier Mix]</th>                    <td>   -1.1941</td> <td>    0.507</td> <td>   -2.357</td> <td> 0.018</td> <td>   -2.187</td> <td>   -0.201</td>\n",
       "</tr>\n",
       "<tr>\n",
       "  <th>breed[T.Rottweiler Mix]</th>                     <td>    0.2443</td> <td>    0.560</td> <td>    0.436</td> <td> 0.663</td> <td>   -0.854</td> <td>    1.343</td>\n",
       "</tr>\n",
       "<tr>\n",
       "  <th>breed[T.Shih Tzu]</th>                           <td>   -2.4263</td> <td>    1.101</td> <td>   -2.203</td> <td> 0.028</td> <td>   -4.585</td> <td>   -0.268</td>\n",
       "</tr>\n",
       "<tr>\n",
       "  <th>breed[T.Shih Tzu Mix]</th>                       <td>   -1.3317</td> <td>    0.663</td> <td>   -2.008</td> <td> 0.045</td> <td>   -2.631</td> <td>   -0.032</td>\n",
       "</tr>\n",
       "<tr>\n",
       "  <th>breed[T.Siberian Husky Mix]</th>                 <td>   -0.4331</td> <td>    0.646</td> <td>   -0.670</td> <td> 0.503</td> <td>   -1.700</td> <td>    0.834</td>\n",
       "</tr>\n",
       "<tr>\n",
       "  <th>breed[T.Staffordshire Mix]</th>                  <td>    0.0431</td> <td>    0.655</td> <td>    0.066</td> <td> 0.948</td> <td>   -1.241</td> <td>    1.327</td>\n",
       "</tr>\n",
       "<tr>\n",
       "  <th>breed[T.Yorkshire Terrier Mix]</th>              <td>   -0.9815</td> <td>    0.628</td> <td>   -1.564</td> <td> 0.118</td> <td>   -2.212</td> <td>    0.249</td>\n",
       "</tr>\n",
       "<tr>\n",
       "  <th>C(sex)[T.1.0]</th>                               <td>   -0.1382</td> <td>    0.062</td> <td>   -2.212</td> <td> 0.027</td> <td>   -0.261</td> <td>   -0.016</td>\n",
       "</tr>\n",
       "<tr>\n",
       "  <th>C(sex)[T.Unknown]</th>                           <td>    0.2175</td> <td>      nan</td> <td>      nan</td> <td>   nan</td> <td>      nan</td> <td>      nan</td>\n",
       "</tr>\n",
       "<tr>\n",
       "  <th>C(sterilized)[T.1.0]</th>                        <td>   -1.5330</td> <td>    0.073</td> <td>  -21.064</td> <td> 0.000</td> <td>   -1.676</td> <td>   -1.390</td>\n",
       "</tr>\n",
       "<tr>\n",
       "  <th>C(sterilized)[T.Unknown]</th>                    <td>    0.2175</td> <td>      nan</td> <td>      nan</td> <td>   nan</td> <td>      nan</td> <td>      nan</td>\n",
       "</tr>\n",
       "<tr>\n",
       "  <th>age</th>                                         <td>    0.0144</td> <td>    0.001</td> <td>   13.958</td> <td> 0.000</td> <td>    0.012</td> <td>    0.016</td>\n",
       "</tr>\n",
       "</table>"
      ],
      "text/plain": [
       "<class 'statsmodels.iolib.summary.Summary'>\n",
       "\"\"\"\n",
       "                           Logit Regression Results                           \n",
       "==============================================================================\n",
       "Dep. Variable:                      y   No. Observations:                29351\n",
       "Model:                          Logit   Df Residuals:                    29294\n",
       "Method:                           MLE   Df Model:                           56\n",
       "Date:                Wed, 23 May 2018   Pseudo R-squ.:                  0.1414\n",
       "Time:                        12:30:14   Log-Likelihood:                -4343.5\n",
       "converged:                      False   LL-Null:                       -5058.8\n",
       "                                        LLR p-value:                2.669e-262\n",
       "===============================================================================================================\n",
       "                                                  coef    std err          z      P>|z|      [0.025      0.975]\n",
       "---------------------------------------------------------------------------------------------------------------\n",
       "Intercept                                      -2.3782      0.644     -3.695      0.000      -3.640      -1.117\n",
       "breed[T.American Pit Bull Terrier Mix]          0.4208      0.624      0.674      0.500      -0.802       1.644\n",
       "breed[T.American Staffordshire Terrier Mix]     0.5706      0.600      0.951      0.341      -0.605       1.746\n",
       "breed[T.Anatol Shepherd Mix]                   -1.6216      0.879     -1.845      0.065      -3.345       0.101\n",
       "breed[T.Australian Cattle Dog Mix]             -0.5472      0.544     -1.006      0.314      -1.613       0.519\n",
       "breed[T.Australian Kelpie Mix]                 -0.9235      0.730     -1.266      0.206      -2.353       0.506\n",
       "breed[T.Australian Shepherd Mix]               -0.4958      0.429     -1.156      0.248      -1.336       0.345\n",
       "breed[T.Basset Hound Mix]                      -0.2026      0.662     -0.306      0.759      -1.500       1.094\n",
       "breed[T.Beagle Mix]                            -1.2912      0.665     -1.941      0.052      -2.595       0.012\n",
       "breed[T.Black Mouth Cur Mix]                   -0.8792      0.757     -1.161      0.246      -2.363       0.605\n",
       "breed[T.Border Collie Mix]                     -0.6315      0.540     -1.169      0.242      -1.690       0.427\n",
       "breed[T.Border Terrier Mix]                   -15.3245    966.452     -0.016      0.987   -1909.536    1878.887\n",
       "breed[T.Boxer Mix]                             -0.2238      0.551     -0.406      0.684      -1.303       0.856\n",
       "breed[T.Cairn Terrier Mix]                     -1.0784      0.740     -1.458      0.145      -2.528       0.371\n",
       "breed[T.Catahoula Mix]                         -0.3521      0.559     -0.629      0.529      -1.449       0.744\n",
       "breed[T.Chihuahua Longhair Mix]                -0.7881      0.529     -1.490      0.136      -1.824       0.248\n",
       "breed[T.Chihuahua Shorthair]                   -1.2950      0.277     -4.680      0.000      -1.837      -0.753\n",
       "breed[T.Chihuahua Shorthair Mix]               -0.6923      0.531     -1.305      0.192      -1.732       0.348\n",
       "breed[T.Chihuahua Shorthair/Dachshund]         -1.2303      0.760     -1.620      0.105      -2.719       0.258\n",
       "breed[T.Chow Chow Mix]                          0.4916      0.556      0.885      0.376      -0.597       1.581\n",
       "breed[T.Cocker Spaniel Mix]                    -0.6681      0.604     -1.107      0.268      -1.851       0.515\n",
       "breed[T.Dachshund Mix]                         -1.0225      0.504     -2.030      0.042      -2.010      -0.035\n",
       "breed[T.Dachshund/Chihuahua Shorthair]         -0.3596      0.696     -0.516      0.606      -1.724       1.005\n",
       "breed[T.Doberman Pinsch Mix]                   -0.0161      0.658     -0.024      0.981      -1.306       1.273\n",
       "breed[T.German Shepherd]                       -0.3426      0.551     -0.622      0.534      -1.423       0.738\n",
       "breed[T.German Shepherd Mix]                   -0.5937      0.532     -1.116      0.264      -1.636       0.449\n",
       "breed[T.German Shepherd/Labrador Retriever]     0.3447      0.646      0.534      0.594      -0.921       1.611\n",
       "breed[T.Golden Retriever Mix]                  -1.6252      0.877     -1.853      0.064      -3.345       0.094\n",
       "breed[T.Great Pyrenees Mix]                    -0.8478      0.626     -1.354      0.176      -2.075       0.379\n",
       "breed[T.Jack Russell Terrier Mix]              -1.0049      0.627     -1.603      0.109      -2.233       0.224\n",
       "breed[T.Labrador Retriever]                    -1.3054      0.730     -1.788      0.074      -2.736       0.126\n",
       "breed[T.Labrador Retriever Mix]                -0.6628      0.531     -1.249      0.212      -1.703       0.378\n",
       "breed[T.Labrador Retriever/German Shepherd]    -0.0151      0.699     -0.022      0.983      -1.385       1.355\n",
       "breed[T.Labrador Retriever/Pit Bull]            0.1724      0.615      0.280      0.779      -1.033       1.377\n",
       "breed[T.Lhasa Apso Mix]                        -1.3124      0.756     -1.736      0.083      -2.794       0.170\n",
       "breed[T.Maltese Mix]                           -1.2173      0.645     -1.888      0.059      -2.481       0.047\n",
       "breed[T.Miniature Pinscher Mix]               -19.4761   5459.962     -0.004      0.997   -1.07e+04    1.07e+04\n",
       "breed[T.Miniature Poodle Mix]                  -0.9173      0.357     -2.569      0.010      -1.617      -0.218\n",
       "breed[T.Miniature Schnauzer Mix]               -1.1750      0.576     -2.041      0.041      -2.303      -0.047\n",
       "breed[T.Pit Bull]                               0.5900      0.459      1.287      0.198      -0.309       1.489\n",
       "breed[T.Pit Bull Mix]                           0.5006      0.522      0.960      0.337      -0.522       1.523\n",
       "breed[T.Plott Hound Mix]                       -0.6863      0.697     -0.985      0.325      -2.053       0.680\n",
       "breed[T.Pointer Mix]                           -1.6484      0.870     -1.894      0.058      -3.354       0.057\n",
       "breed[T.Pomeranian Mix]                        -2.5920      1.097     -2.363      0.018      -4.742      -0.442\n",
       "breed[T.Pug Mix]                               -2.3682      1.081     -2.190      0.029      -4.487      -0.249\n",
       "breed[T.Queensland Heeler Mix]                 -0.6917      0.640     -1.082      0.279      -1.945       0.562\n",
       "breed[T.Rat Terrier Mix]                       -1.1941      0.507     -2.357      0.018      -2.187      -0.201\n",
       "breed[T.Rottweiler Mix]                         0.2443      0.560      0.436      0.663      -0.854       1.343\n",
       "breed[T.Shih Tzu]                              -2.4263      1.101     -2.203      0.028      -4.585      -0.268\n",
       "breed[T.Shih Tzu Mix]                          -1.3317      0.663     -2.008      0.045      -2.631      -0.032\n",
       "breed[T.Siberian Husky Mix]                    -0.4331      0.646     -0.670      0.503      -1.700       0.834\n",
       "breed[T.Staffordshire Mix]                      0.0431      0.655      0.066      0.948      -1.241       1.327\n",
       "breed[T.Yorkshire Terrier Mix]                 -0.9815      0.628     -1.564      0.118      -2.212       0.249\n",
       "C(sex)[T.1.0]                                  -0.1382      0.062     -2.212      0.027      -0.261      -0.016\n",
       "C(sex)[T.Unknown]                               0.2175        nan        nan        nan         nan         nan\n",
       "C(sterilized)[T.1.0]                           -1.5330      0.073    -21.064      0.000      -1.676      -1.390\n",
       "C(sterilized)[T.Unknown]                        0.2175        nan        nan        nan         nan         nan\n",
       "age                                             0.0144      0.001     13.958      0.000       0.012       0.016\n",
       "===============================================================================================================\n",
       "\"\"\""
      ]
     },
     "execution_count": 119,
     "metadata": {},
     "output_type": "execute_result"
    }
   ],
   "source": [
    "# There are nearly 1,800 unique values for breed in our data.\n",
    "# We can't get a reasonable estimate for most of those; there\n",
    "# are too few observations. Let's restrict analysis to\n",
    "# common dog breeds--100 or more individuals.\n",
    "tmp_data = data.query('animal==\"Dog\"')\n",
    "tmp_data = tmp_data.groupby('breed').filter(lambda x: len(x) >= 100)\n",
    "\n",
    "# The NaNs in some columns might cause problems; let's replace them\n",
    "cols = ['sex', 'sterilized']\n",
    "tmp_data[cols] = tmp_data[cols].fillna('Unknown')\n",
    "\n",
    "# Explicitly add the dependent variable\n",
    "tmp_data['y'] = (tmp_data['outcome'] == 'Euthanasia').astype(int)\n",
    "\n",
    "# We can easily set up the design matrix with an R-style formula\n",
    "from patsy import dmatrices\n",
    "y, X = dmatrices('y ~ age + breed + C(sex) + C(sterilized)',\n",
    "                 data=tmp_data, return_type='dataframe')\n",
    "\n",
    "results = sm.Logit(y, X).fit()\n",
    "results.summary()"
   ]
  },
  {
   "cell_type": "code",
   "execution_count": 114,
   "metadata": {
    "scrolled": true,
    "slideshow": {
     "slide_type": "subslide"
    }
   },
   "outputs": [
    {
     "data": {
      "text/plain": [
       "breed[T.Miniature Pinscher Mix]                3.480414e-09\n",
       "breed[T.Border Terrier Mix]                    2.211259e-07\n",
       "breed[T.Pomeranian Mix]                        7.487105e-02\n",
       "breed[T.Shih Tzu]                              8.835931e-02\n",
       "Intercept                                      9.271333e-02\n",
       "breed[T.Pug Mix]                               9.364619e-02\n",
       "breed[T.Pointer Mix]                           1.923523e-01\n",
       "breed[T.Golden Retriever Mix]                  1.968658e-01\n",
       "breed[T.Anatol Shepherd Mix]                   1.975804e-01\n",
       "C(sterilized)[T.1.0]                           2.158803e-01\n",
       "breed[T.Shih Tzu Mix]                          2.640348e-01\n",
       "breed[T.Lhasa Apso Mix]                        2.691762e-01\n",
       "breed[T.Labrador Retriever]                    2.710642e-01\n",
       "breed[T.Chihuahua Shorthair]                   2.738943e-01\n",
       "breed[T.Beagle Mix]                            2.749360e-01\n",
       "breed[T.Chihuahua Shorthair/Dachshund]         2.922163e-01\n",
       "breed[T.Maltese Mix]                           2.960291e-01\n",
       "breed[T.Rat Terrier Mix]                       3.029652e-01\n",
       "breed[T.Miniature Schnauzer Mix]               3.088221e-01\n",
       "breed[T.Cairn Terrier Mix]                     3.401561e-01\n",
       "breed[T.Dachshund Mix]                         3.596796e-01\n",
       "breed[T.Jack Russell Terrier Mix]              3.660891e-01\n",
       "breed[T.Yorkshire Terrier Mix]                 3.747336e-01\n",
       "breed[T.Australian Kelpie Mix]                 3.971138e-01\n",
       "breed[T.Miniature Poodle Mix]                  3.995840e-01\n",
       "breed[T.Black Mouth Cur Mix]                   4.151010e-01\n",
       "breed[T.Great Pyrenees Mix]                    4.283578e-01\n",
       "breed[T.Chihuahua Longhair Mix]                4.547189e-01\n",
       "breed[T.Chihuahua Shorthair Mix]               5.004081e-01\n",
       "breed[T.Queensland Heeler Mix]                 5.007129e-01\n",
       "breed[T.Plott Hound Mix]                       5.034215e-01\n",
       "breed[T.Cocker Spaniel Mix]                    5.126664e-01\n",
       "breed[T.Labrador Retriever Mix]                5.154265e-01\n",
       "breed[T.Border Collie Mix]                     5.318189e-01\n",
       "breed[T.German Shepherd Mix]                   5.522997e-01\n",
       "breed[T.Australian Cattle Dog Mix]             5.785647e-01\n",
       "breed[T.Australian Shepherd Mix]               6.090828e-01\n",
       "breed[T.Siberian Husky Mix]                    6.485169e-01\n",
       "breed[T.Dachshund/Chihuahua Shorthair]         6.979497e-01\n",
       "breed[T.Catahoula Mix]                         7.032167e-01\n",
       "breed[T.German Shepherd]                       7.098871e-01\n",
       "breed[T.Boxer Mix]                             7.994756e-01\n",
       "breed[T.Basset Hound Mix]                      8.165837e-01\n",
       "C(sex)[T.1.0]                                  8.709331e-01\n",
       "breed[T.Doberman Pinsch Mix]                   9.840539e-01\n",
       "breed[T.Labrador Retriever/German Shepherd]    9.849852e-01\n",
       "age                                            1.014507e+00\n",
       "breed[T.Staffordshire Mix]                     1.044017e+00\n",
       "breed[T.Labrador Retriever/Pit Bull]           1.188189e+00\n",
       "C(sterilized)[T.Unknown]                       1.242998e+00\n",
       "C(sex)[T.Unknown]                              1.242998e+00\n",
       "breed[T.Rottweiler Mix]                        1.276752e+00\n",
       "breed[T.German Shepherd/Labrador Retriever]    1.411566e+00\n",
       "breed[T.American Pit Bull Terrier Mix]         1.523222e+00\n",
       "breed[T.Chow Chow Mix]                         1.634907e+00\n",
       "breed[T.Pit Bull Mix]                          1.649734e+00\n",
       "breed[T.American Staffordshire Terrier Mix]    1.769367e+00\n",
       "breed[T.Pit Bull]                              1.804040e+00\n",
       "dtype: float64"
      ]
     },
     "execution_count": 114,
     "metadata": {},
     "output_type": "execute_result"
    }
   ],
   "source": [
    "# The coefficients are in logit space; we can convert them to odds ratios\n",
    "np.exp(results.params).sort_values()"
   ]
  },
  {
   "cell_type": "markdown",
   "metadata": {
    "slideshow": {
     "slide_type": "subslide"
    }
   },
   "source": [
    "### Should you do classical statistics in Python?\n",
    "* In the interest of providing a fair overview...\n",
    "* If you plan to do a lot of classical inference (t-tests, ANOVAs, MLMs...), you will probably have an easier time in R\n",
    "    * Though a lot of standard have scikit-learn implementations\n",
    "* If you want to do probabilistic programming, machine learning, or deep learning, Python shines\n",
    "    * We'll cover some of this tomorrow"
   ]
  }
 ],
 "metadata": {
  "celltoolbar": "Slideshow",
  "kernelspec": {
   "display_name": "Python 3",
   "language": "python",
   "name": "python3"
  },
  "language_info": {
   "codemirror_mode": {
    "name": "ipython",
    "version": 3
   },
   "file_extension": ".py",
   "mimetype": "text/x-python",
   "name": "python",
   "nbconvert_exporter": "python",
   "pygments_lexer": "ipython3",
   "version": "3.6.5"
  }
 },
 "nbformat": 4,
 "nbformat_minor": 1
}
