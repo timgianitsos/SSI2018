{
 "cells": [
  {
   "cell_type": "markdown",
   "metadata": {},
   "source": [
    "# Data preprocessing pipeline\n",
    "Note: we won't cover this at all in class; this is just so you can see the steps that went into produce the dataset we'll use."
   ]
  },
  {
   "cell_type": "code",
   "execution_count": 1,
   "metadata": {
    "collapsed": true
   },
   "outputs": [],
   "source": [
    "import pandas as pd\n",
    "import numpy as np\n",
    "\n",
    "# Disable annoying SettingWithCopyWarning\n",
    "pd.options.mode.chained_assignment = None"
   ]
  },
  {
   "cell_type": "markdown",
   "metadata": {},
   "source": [
    "### Load outcome data"
   ]
  },
  {
   "cell_type": "code",
   "execution_count": 2,
   "metadata": {
    "collapsed": true
   },
   "outputs": [],
   "source": [
    "data = pd.read_csv('../data/Austin_Animal_Center_Outcomes.csv')"
   ]
  },
  {
   "cell_type": "markdown",
   "metadata": {},
   "source": [
    "### Rename columns for brevity"
   ]
  },
  {
   "cell_type": "code",
   "execution_count": 3,
   "metadata": {
    "collapsed": true
   },
   "outputs": [],
   "source": [
    "replacements = {\n",
    "    'Animal ID': 'id',\n",
    "    'DateTime': 'datetime',\n",
    "    'Outcome Type': 'outcome',\n",
    "    'Outcome Subtype': 'outcome_subtype',\n",
    "    'Animal Type': 'animal',\n",
    "    # We append these with '_string' because we're going\n",
    "    # to use the names 'sex' and 'age' later for\n",
    "    # extracted variables, so this avoids confusion.\n",
    "    'Sex upon Outcome': 'sex_string',\n",
    "    'Age upon Outcome': 'age_string',\n",
    "}\n",
    "\n",
    "# # We can apply the rename function to either row names\n",
    "# # or column names. Here we're doing columns.\n",
    "data = data.rename(columns=replacements)\n",
    "\n",
    "# # Let's also make sure all column names are in lowercase.\n",
    "# # We're using an idiom called a \"list comprehension\".\n",
    "data.columns = [c.lower() for c in data.columns]"
   ]
  },
  {
   "cell_type": "markdown",
   "metadata": {},
   "source": [
    "### Convert timestamp to datetime and extract time variables"
   ]
  },
  {
   "cell_type": "code",
   "execution_count": 4,
   "metadata": {
    "collapsed": true
   },
   "outputs": [],
   "source": [
    "# Convert the datetime column to actual datetimes\n",
    "data['datetime'] = pd.to_datetime(data['datetime'])\n",
    "\n",
    "# Datetime-related functions are accessed through the .dt attribute\n",
    "data['day'] = data['datetime'].dt.weekday\n",
    "data['hour'] = data['datetime'].dt.hour\n",
    "data['month'] = data['datetime'].dt.month\n",
    "data['year'] = data['datetime'].dt.year"
   ]
  },
  {
   "cell_type": "markdown",
   "metadata": {},
   "source": [
    "### Extract age in months"
   ]
  },
  {
   "cell_type": "code",
   "execution_count": 5,
   "metadata": {
    "collapsed": true
   },
   "outputs": [],
   "source": [
    "def extract_months(value):\n",
    "    ''' Extract and return age in months from string values \n",
    "    \"3 years\" or \"7 months\".\n",
    "    \n",
    "    Note: this code won't work as written, because some of\n",
    "    the values passed in are invalid.\n",
    "    \n",
    "    Exercise: Modify the code to return the special value\n",
    "    np.nan (numpy's representation of not-a-number)\n",
    "    whenever an invalid value is encountered.\n",
    "    '''\n",
    "    try:\n",
    "        number, unit = value.split(' ')\n",
    "        number = int(number)\n",
    "\n",
    "        if unit.startswith('year'):\n",
    "            number *= 12\n",
    "        elif unit.startswith('week'):\n",
    "            number *= 0.25\n",
    "    except:\n",
    "        number = np.nan\n",
    "\n",
    "    return number\n",
    "\n",
    "# Convert the age string to a numeric variable (no. of months)\n",
    "data['age'] = data['age_string'].apply(extract_months)"
   ]
  },
  {
   "cell_type": "markdown",
   "metadata": {},
   "source": [
    "### Recode sex string as binary indicators for sex and sterilization"
   ]
  },
  {
   "cell_type": "code",
   "execution_count": 6,
   "metadata": {},
   "outputs": [],
   "source": [
    "# Replace the sole NaN in sex_string with 'Unknown'\n",
    "data['sex_string'] = data['sex_string'].fillna('Unknown')\n",
    "\n",
    "# Initialize a new column with NaN as the default value (for unknown sex)\n",
    "data['sex'] = np.nan\n",
    "\n",
    "# Update the column with values for M (0) and F (1)\n",
    "inds = data['sex_string'].str.contains('Male')\n",
    "data['sex'][inds] = 0\n",
    "data['sex'][data['sex_string'].str.contains('Female')] = 1\n",
    "\n",
    "# Now do the same kind of thing for sterilization\n",
    "data['sterilized'] = 1\n",
    "data['sterilized'][data['sex_string'].str.contains('Intact')] = 0\n",
    "data['sterilized'][data['sex_string'].str.contains('Unknown')] = np.nan"
   ]
  },
  {
   "cell_type": "markdown",
   "metadata": {},
   "source": [
    "### Keep only the first color in cases of mixed color"
   ]
  },
  {
   "cell_type": "code",
   "execution_count": 7,
   "metadata": {},
   "outputs": [],
   "source": [
    "# pandas string methods are accessed through a column's str attribute\n",
    "\n",
    "# store the first color in the DataFrame\n",
    "data['first_color'] = data['color'].str.split('/').str.get(0)\n",
    "\n",
    "# also store an indicator for mixed/single color\n",
    "data['mixed_color'] = data['color'].str.count('/')"
   ]
  },
  {
   "cell_type": "markdown",
   "metadata": {},
   "source": [
    "### Keep only the last outcome for each unique animal"
   ]
  },
  {
   "cell_type": "code",
   "execution_count": 8,
   "metadata": {},
   "outputs": [],
   "source": [
    "# Sort all outcomes by chronological order.\n",
    "data = data.sort_values('datetime')\n",
    "\n",
    "# Keep only the last outcome for each unique animal\n",
    "data = data.groupby('id').last().reset_index()"
   ]
  },
  {
   "cell_type": "markdown",
   "metadata": {},
   "source": [
    "### Merge in scraped breed data"
   ]
  },
  {
   "cell_type": "code",
   "execution_count": 9,
   "metadata": {
    "collapsed": true
   },
   "outputs": [],
   "source": [
    "# Load the breed data to merge in\n",
    "breed_data = pd.read_csv('../data/breed_data.csv')\n",
    "\n",
    "# Let's prepare a 'merge_key' column in our outcome data that should line up\n",
    "# as well as possible with the breed_name column in the breed_data DataFrame.\n",
    "# We'll start by dropping all occurrences of 'Mix', 'Shorthair', etc.\n",
    "data['merge_key'] = data['breed'].replace([' Mix', ' Shorthair', ' Longhair'], '', regex=True)\n",
    "\n",
    "# Next, we'll keep only the first breed in cases where there are multiple given.\n",
    "# For example, \"Beagle/Labrador Retriever\" would become just \"Beagle\".\n",
    "data['merge_key'] = data['merge_key'].str.split('/').str.get(0)\n",
    "\n",
    "# Manually map the most common breeds that don't align. I've cheated here\n",
    "# and done a bit of extra work ahead of time to figure out what these are.\n",
    "replacements = {\n",
    "    \"Pit Bull\": \"American Staffordshire Terrier\",\n",
    "    \"Staffordshire\": \"Staffordshire Bull Terrier\",\n",
    "    \"German Shepherd\": \"German Shepherd Dog\",\n",
    "    \"Anatol Shepherd\": \"Anatolian Shepherd Dog\",\n",
    "    \"Australian Shepherd\": \"Australian Shepherd Dog\",\n",
    "    \"Catahoula\": \"Catahoula Leopard Dog\",\n",
    "    \"American Pit Bull Terrier\": \"American Staffordshire Terrier\", \n",
    "    \"Doberman Pinsch\": \"Doberman Pinscher\",  \n",
    "}\n",
    "\n",
    "# Apply the replacements\n",
    "data['merge_key'] = data['merge_key'].replace(replacements)\n",
    "\n",
    "# Finally, we're in a position to merge our data.\n",
    "# We have to tell pandas which columns to use in each of the two datasets.\n",
    "# We can also specify how we want the join to work ('left', 'outer',\n",
    "# 'inner', etc.). The default is left, meaning that the output DataFrame\n",
    "# will have the same number of rows as the first input DataFrame (data).\n",
    "data = data.merge(breed_data, left_on='merge_key', right_on='breed_name', how='left')"
   ]
  },
  {
   "cell_type": "markdown",
   "metadata": {},
   "source": [
    "### Save to file"
   ]
  },
  {
   "cell_type": "code",
   "execution_count": 10,
   "metadata": {
    "collapsed": true
   },
   "outputs": [],
   "source": [
    "data.to_csv('../data/preprocessed_data.csv', index=False, encoding='utf-8')"
   ]
  }
 ],
 "metadata": {
  "kernelspec": {
   "display_name": "Python 3",
   "language": "python",
   "name": "python3"
  },
  "language_info": {
   "codemirror_mode": {
    "name": "ipython",
    "version": 3
   },
   "file_extension": ".py",
   "mimetype": "text/x-python",
   "name": "python",
   "nbconvert_exporter": "python",
   "pygments_lexer": "ipython3",
   "version": "3.6.5"
  }
 },
 "nbformat": 4,
 "nbformat_minor": 1
}
