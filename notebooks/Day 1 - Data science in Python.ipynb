{
 "cells": [
  {
   "cell_type": "markdown",
   "metadata": {
    "slideshow": {
     "slide_type": "subslide"
    }
   },
   "source": [
    "# Course overview\n",
    "* What are we doing here?\n",
    "* If you're not here for Intro to Data Science in Python, you're in the wrong place!"
   ]
  },
  {
   "cell_type": "code",
   "execution_count": 67,
   "metadata": {},
   "outputs": [
    {
     "data": {
      "text/plain": [
       "{1, 2, 3}"
      ]
     },
     "execution_count": 67,
     "metadata": {},
     "output_type": "execute_result"
    }
   ],
   "source": []
  },
  {
   "cell_type": "markdown",
   "metadata": {
    "slideshow": {
     "slide_type": "subslide"
    }
   },
   "source": [
    "## Course objectives\n",
    "The goal of this course is to provide a high-level introduction to:\n",
    "* The Python language and the scientific Python stack\n",
    "* Core elements of a typical data science pipeline"
   ]
  },
  {
   "cell_type": "markdown",
   "metadata": {
    "slideshow": {
     "slide_type": "subslide"
    }
   },
   "source": [
    "## Who is this course for?\n",
    "* The ideal participant:\n",
    "    * Has prior programming experience in other languages (e.g., R, Matlab, etc.)\n",
    "    * Is familiar with basic statistics (descriptives, probability, regression, etc.)\n",
    "    * Analyzes data on a regular basis\n",
    "    * Is interested in learning how to analyze data more effectively in Python\n",
    "* Don't worry if you're not the ideal participant!\n",
    "    * But you may have to do some extra work to catch up"
   ]
  },
  {
   "cell_type": "markdown",
   "metadata": {
    "slideshow": {
     "slide_type": "subslide"
    }
   },
   "source": [
    "## What this course will and won't do\n",
    "* It will give you a basic understanding of the Python data science ecosystem\n",
    "* It will help you figure out which resources to seek out next\n",
    "* It won't turn you into either a data scientist or a Python developer\n",
    "    * Programming and data science take time!"
   ]
  },
  {
   "cell_type": "markdown",
   "metadata": {
    "slideshow": {
     "slide_type": "subslide"
    }
   },
   "source": [
    "## Who are we?\n",
    "* A  bit about me\n",
    "* A bit about you"
   ]
  },
  {
   "cell_type": "markdown",
   "metadata": {
    "slideshow": {
     "slide_type": "subslide"
    }
   },
   "source": [
    "## Structure of the course\n",
    "The course is structured loosely around different phases of a typical data science project:\n",
    "* Day 1: Setting up a data science environment\n",
    "* Day 2: Importing and preprocessing the data\n",
    "* Day 3: Describing, visualizing, and analyzing the data\n",
    "* Day 4: Machine learning/predictive modeling"
   ]
  },
  {
   "cell_type": "markdown",
   "metadata": {
    "slideshow": {
     "slide_type": "subslide"
    }
   },
   "source": [
    "## Getting the most out of the course\n",
    "* You'll get more out of the course if you interact with the code\n",
    "* To run the Jupyter notebooks, you'll need the following:\n",
    "    * Python\n",
    "    * The core Python scientific computing stack (Numpy, SciPy, pandas, matplotlib)\n",
    "    * The Jupyter Notebook\n",
    "    * Various additional packages we'll install as we go\n",
    "        * scikit-learn\n",
    "        * seaborn\n",
    "        * requests\n",
    "        * beautifulsoup4\n",
    "        * etc..."
   ]
  },
  {
   "cell_type": "markdown",
   "metadata": {
    "slideshow": {
     "slide_type": "subslide"
    }
   },
   "source": [
    "## Good news...\n",
    "\n",
    "Virtually all of the packages we'll cover are included in the base Anaconda distribution, available for all platforms.\n",
    "\n",
    "Additional packages can almost always be installed via conda or pip:\n",
    "\n",
    "> conda install [package]\n",
    "\n",
    "or\n",
    "\n",
    "> pip install [package]"
   ]
  },
  {
   "cell_type": "markdown",
   "metadata": {
    "slideshow": {
     "slide_type": "slide"
    }
   },
   "source": [
    "# Overview of Day 1\n",
    "* Course overview\n",
    "* What is data science?\n",
    "* The Python language\n",
    "* Why do data science in Python?\n",
    "* Comparison with other common languages\n",
    "* The scientific Python ecosystem\n",
    "* The Jupyter notebook\n",
    "* Numpy\n",
    "* Best practices for data science"
   ]
  },
  {
   "cell_type": "markdown",
   "metadata": {
    "slideshow": {
     "slide_type": "slide"
    }
   },
   "source": [
    "# What is data science?"
   ]
  },
  {
   "cell_type": "markdown",
   "metadata": {
    "slideshow": {
     "slide_type": "subslide"
    }
   },
   "source": [
    "<div width=\"600px\">\n",
    "<img src=\"images/data_science_venn.png\" width=\"500px\" style=\"margin-bottom: 10px;\">\n",
    "<a href=\"http://drewconway.com/zia/2013/3/26/the-data-science-venn-diagram\" style=\"font-size: 14px;\">http://drewconway.com/zia/2013/3/26/the-data-science-venn-diagram</a>\n",
    "</div>"
   ]
  },
  {
   "cell_type": "markdown",
   "metadata": {
    "slideshow": {
     "slide_type": "subslide"
    }
   },
   "source": [
    "### General themes\n",
    "* Mathematical/statistical sophistication (contrast with data analyst, software developer)\n",
    "* Solid programming ability: can build automated data-processing pipelines\n",
    "* Extracts coherent stories from large amounts of data"
   ]
  },
  {
   "cell_type": "markdown",
   "metadata": {
    "slideshow": {
     "slide_type": "subslide"
    }
   },
   "source": [
    "### Skills\n",
    "The skill set people associate with data science varies wildly, and can include:\n",
    "* Statistics\n",
    "* Data munging\n",
    "* Machine learning\n",
    "* Visualization\n",
    "* Expertise in Python, R, or similar\n",
    "* SQL\n",
    "* Distributed computing\n",
    "* Optimization\n",
    "* Etc. etc..."
   ]
  },
  {
   "cell_type": "markdown",
   "metadata": {
    "slideshow": {
     "slide_type": "subslide"
    }
   },
   "source": [
    "<img src=\"images/josh_wills_tweet.png\" width=\"700px\">"
   ]
  },
  {
   "cell_type": "markdown",
   "metadata": {
    "collapsed": true,
    "slideshow": {
     "slide_type": "slide"
    }
   },
   "source": [
    "# The Python language\n",
    "\n",
    "Python is a very widely used, very flexible, high-level, general-purpose, dynamic programming language"
   ]
  },
  {
   "cell_type": "markdown",
   "metadata": {
    "slideshow": {
     "slide_type": "subslide"
    }
   },
   "source": [
    "### High-level\n",
    "Python features a high level of abstraction\n",
    "* Many operations that are explicit in lower-level languages (e.g., C/C++) are implicit in Python\n",
    "* E.g., memory allocation, garbage collection, etc.\n",
    "* Python lets you write code faster"
   ]
  },
  {
   "cell_type": "markdown",
   "metadata": {
    "slideshow": {
     "slide_type": "subslide"
    }
   },
   "source": [
    "#### File reading in Java\n",
    "```java\n",
    "import java.io.BufferedReader;\n",
    "import java.io.FileReader;\n",
    "import java.io.IOException;\n",
    " \n",
    "public class ReadFile {\n",
    "    public static void main(String[] args) throws IOException{\n",
    "        String fileContents = readEntireFile(\"./foo.txt\");\n",
    "    }\n",
    " \n",
    "    private static String readEntireFile(String filename) throws IOException {\n",
    "        FileReader in = new FileReader(filename);\n",
    "        StringBuilder contents = new StringBuilder();\n",
    "        char[] buffer = new char[4096];\n",
    "        int read = 0;\n",
    "        do {\n",
    "            contents.append(buffer, 0, read);\n",
    "            read = in.read(buffer);\n",
    "        } while (read >= 0);\n",
    "        return contents.toString();\n",
    "    }\n",
    "}\n",
    "```"
   ]
  },
  {
   "cell_type": "markdown",
   "metadata": {
    "slideshow": {
     "slide_type": "subslide"
    }
   },
   "source": [
    "#### File-reading in Python\n",
    "```python\n",
    "open(filename).read()\n",
    "```"
   ]
  },
  {
   "cell_type": "markdown",
   "metadata": {
    "slideshow": {
     "slide_type": "subslide"
    }
   },
   "source": [
    "### General-purpose\n",
    "You can do almost everything in Python\n",
    "* Comprehensive standard library\n",
    "* Enormous ecosystem of third-party packages\n",
    "* Widely used in many areas of software development (web, dev-ops, data science, etc.)"
   ]
  },
  {
   "cell_type": "markdown",
   "metadata": {
    "slideshow": {
     "slide_type": "subslide"
    }
   },
   "source": [
    "### Dynamic\n",
    "Code is interpreted at run-time\n",
    "* No compilation process*; code is read line-by-line when executed\n",
    "* Eliminates delays between development and execution\n",
    "* The downside: poorer performance compared to compiled languages"
   ]
  },
  {
   "cell_type": "markdown",
   "metadata": {
    "slideshow": {
     "slide_type": "slide"
    }
   },
   "source": [
    "## Variables and data types\n",
    "* In Python, we declare a variable by assigning it a value with the = sign\n",
    "* Python supports a variety of data types:\n",
    "    * booleans\n",
    "    * numbers (ints, floats, etc.)\n",
    "    * strings\n",
    "    * lists\n",
    "    * dictionaries\n",
    "    * many others!\n",
    "* We don't specify a variable's type at assignment--Python uses [duck typing](https://en.wikipedia.org/wiki/Duck_typing)"
   ]
  },
  {
   "cell_type": "markdown",
   "metadata": {
    "slideshow": {
     "slide_type": "subslide"
    }
   },
   "source": [
    "### Examples"
   ]
  },
  {
   "cell_type": "code",
   "execution_count": 3,
   "metadata": {
    "slideshow": {
     "slide_type": "fragment"
    }
   },
   "outputs": [],
   "source": [
    "# An integer. Notice the variable naming convention.\n",
    "age_in_years = 30"
   ]
  },
  {
   "cell_type": "code",
   "execution_count": 4,
   "metadata": {
    "slideshow": {
     "slide_type": "fragment"
    }
   },
   "outputs": [],
   "source": [
    "# A float\n",
    "kind_of_pi = 3.14"
   ]
  },
  {
   "cell_type": "code",
   "execution_count": 5,
   "metadata": {
    "slideshow": {
     "slide_type": "fragment"
    }
   },
   "outputs": [],
   "source": [
    "# A string\n",
    "apple = \"A is for Apple\""
   ]
  },
  {
   "cell_type": "code",
   "execution_count": 7,
   "metadata": {
    "slideshow": {
     "slide_type": "fragment"
    }
   },
   "outputs": [],
   "source": [
    "# A boolean takes on only the values True or False\n",
    "enjoying_class = True"
   ]
  },
  {
   "cell_type": "markdown",
   "metadata": {
    "slideshow": {
     "slide_type": "subslide"
    }
   },
   "source": [
    "#### Lists\n",
    "* An ordered, heterogeneous collection of objects\n",
    "* List elements can be accessed by position"
   ]
  },
  {
   "cell_type": "code",
   "execution_count": 8,
   "metadata": {
    "slideshow": {
     "slide_type": "fragment"
    }
   },
   "outputs": [],
   "source": [
    "random_stuff = [12, 'donut', age_in_years]"
   ]
  },
  {
   "cell_type": "code",
   "execution_count": 9,
   "metadata": {
    "slideshow": {
     "slide_type": "fragment"
    }
   },
   "outputs": [
    {
     "data": {
      "text/plain": [
       "'donut'"
      ]
     },
     "execution_count": 9,
     "metadata": {},
     "output_type": "execute_result"
    }
   ],
   "source": [
    "# We index lists by numerical position--starting at 0\n",
    "random_stuff[1]"
   ]
  },
  {
   "cell_type": "code",
   "execution_count": 13,
   "metadata": {
    "slideshow": {
     "slide_type": "fragment"
    }
   },
   "outputs": [
    {
     "data": {
      "text/plain": [
       "['donut']"
      ]
     },
     "execution_count": 13,
     "metadata": {},
     "output_type": "execute_result"
    }
   ],
   "source": [
    "# We can also slice lists\n",
    "random_stuff[1:-1]"
   ]
  },
  {
   "cell_type": "code",
   "execution_count": 14,
   "metadata": {
    "slideshow": {
     "slide_type": "fragment"
    }
   },
   "outputs": [
    {
     "data": {
      "text/plain": [
       "[12, 'donut', 30, 3.14]"
      ]
     },
     "execution_count": 14,
     "metadata": {},
     "output_type": "execute_result"
    }
   ],
   "source": [
    "# Append an element\n",
    "random_stuff.append(kind_of_pi)\n",
    "random_stuff "
   ]
  },
  {
   "cell_type": "markdown",
   "metadata": {
    "slideshow": {
     "slide_type": "subslide"
    }
   },
   "source": [
    "#### Dictionaries (dict)\n",
    "* Unordered collection of key-to-value pairs\n",
    "* dict elements can be accessed by key, but *not* by position"
   ]
  },
  {
   "cell_type": "code",
   "execution_count": 16,
   "metadata": {
    "slideshow": {
     "slide_type": "fragment"
    }
   },
   "outputs": [],
   "source": [
    "# A dictionary is an unordered mapping from keys to values\n",
    "fruit_prices = {\n",
    "    'apple': 0.65,\n",
    "    'mango': 1.50,\n",
    "    'strawberry': '$3/lb',\n",
    "    'durian': 'unavailable'\n",
    "}"
   ]
  },
  {
   "cell_type": "code",
   "execution_count": 18,
   "metadata": {
    "slideshow": {
     "slide_type": "fragment"
    }
   },
   "outputs": [
    {
     "data": {
      "text/plain": [
       "0.65"
      ]
     },
     "execution_count": 18,
     "metadata": {},
     "output_type": "execute_result"
    }
   ],
   "source": [
    "# What's the price of a mango?\n",
    "fruit_prices['apple']"
   ]
  },
  {
   "cell_type": "code",
   "execution_count": 19,
   "metadata": {
    "slideshow": {
     "slide_type": "fragment"
    }
   },
   "outputs": [],
   "source": [
    "# Add a new entry\n",
    "fruit_prices['pear'] = 0.75"
   ]
  },
  {
   "cell_type": "markdown",
   "metadata": {
    "slideshow": {
     "slide_type": "subslide"
    }
   },
   "source": [
    "### Everything is an object in Python\n",
    "* All of these 'data types' are actually just objects in Python\n",
    "* *Everything* is an object in Python!\n",
    "* The operations you can perform with a variable depend on the object's definition\n",
    "* E.g., the operator * is defined for some objects but not others"
   ]
  },
  {
   "cell_type": "code",
   "execution_count": 20,
   "metadata": {
    "slideshow": {
     "slide_type": "fragment"
    }
   },
   "outputs": [
    {
     "data": {
      "text/plain": [
       "60"
      ]
     },
     "execution_count": 20,
     "metadata": {},
     "output_type": "execute_result"
    }
   ],
   "source": [
    "# Multiply an int by 2\n",
    "age_in_years * 2"
   ]
  },
  {
   "cell_type": "code",
   "execution_count": 21,
   "metadata": {
    "slideshow": {
     "slide_type": "fragment"
    }
   },
   "outputs": [
    {
     "data": {
      "text/plain": [
       "9.6"
      ]
     },
     "execution_count": 21,
     "metadata": {},
     "output_type": "execute_result"
    }
   ],
   "source": [
    "# Multiply a float by 2\n",
    "4.8 * 2"
   ]
  },
  {
   "cell_type": "code",
   "execution_count": 29,
   "metadata": {
    "slideshow": {
     "slide_type": "fragment"
    }
   },
   "outputs": [
    {
     "data": {
      "text/plain": [
       "'duckduck'"
      ]
     },
     "execution_count": 29,
     "metadata": {},
     "output_type": "execute_result"
    }
   ],
   "source": [
    "# What about a string?\n",
    "'duck' * 2"
   ]
  },
  {
   "cell_type": "code",
   "execution_count": 28,
   "metadata": {
    "slideshow": {
     "slide_type": "fragment"
    }
   },
   "outputs": [
    {
     "data": {
      "text/plain": [
       "[3, 2, 1, 3, 2, 1]"
      ]
     },
     "execution_count": 28,
     "metadata": {},
     "output_type": "execute_result"
    }
   ],
   "source": [
    "# A list?\n",
    "[3, 2, 1] * 2"
   ]
  },
  {
   "cell_type": "code",
   "execution_count": 30,
   "metadata": {
    "slideshow": {
     "slide_type": "fragment"
    }
   },
   "outputs": [
    {
     "ename": "TypeError",
     "evalue": "unsupported operand type(s) for *: 'dict' and 'int'",
     "output_type": "error",
     "traceback": [
      "\u001b[0;31m---------------------------------------------------------------------------\u001b[0m",
      "\u001b[0;31mTypeError\u001b[0m                                 Traceback (most recent call last)",
      "\u001b[0;32m<ipython-input-30-086ba91d6ab1>\u001b[0m in \u001b[0;36m<module>\u001b[0;34m()\u001b[0m\n\u001b[1;32m      1\u001b[0m \u001b[0;31m# A dictionary?\u001b[0m\u001b[0;34m\u001b[0m\u001b[0;34m\u001b[0m\u001b[0m\n\u001b[0;32m----> 2\u001b[0;31m \u001b[0mfruit_prices\u001b[0m \u001b[0;34m*\u001b[0m \u001b[0;36m2\u001b[0m\u001b[0;34m\u001b[0m\u001b[0m\n\u001b[0m",
      "\u001b[0;31mTypeError\u001b[0m: unsupported operand type(s) for *: 'dict' and 'int'"
     ]
    }
   ],
   "source": [
    "# A dictionary?\n",
    "fruit_prices * 2"
   ]
  },
  {
   "cell_type": "markdown",
   "metadata": {
    "slideshow": {
     "slide_type": "subslide"
    }
   },
   "source": [
    "## Control structures\n",
    "* Language features that allow us to control how code is executed\n",
    "* Iteration (e.g., for-loops, while statements...)\n",
    "* Conditionals (if-then-else statements)\n",
    "* [Etc](https://docs.python.org/3/tutorial/controlflow.html)..."
   ]
  },
  {
   "cell_type": "code",
   "execution_count": 35,
   "metadata": {
    "slideshow": {
     "slide_type": "fragment"
    }
   },
   "outputs": [
    {
     "name": "stdout",
     "output_type": "stream",
     "text": [
      "At index 0, the value is 12\n",
      "At index 1, the value is donut\n",
      "At index 2, the value is 30\n",
      "At index 3, the value is 3.14\n"
     ]
    }
   ],
   "source": [
    "# Count how many elements we have in our list\n",
    "n_elements = len(random_stuff)\n",
    "\n",
    "# Loop over indices of the list and print each value\n",
    "for i in range(n_elements):\n",
    "    val =  random_stuff[i]\n",
    "    msg = \"At index {}, the value is {}\".format(i, val)\n",
    "    print(msg)"
   ]
  },
  {
   "cell_type": "code",
   "execution_count": null,
   "metadata": {
    "slideshow": {
     "slide_type": "fragment"
    }
   },
   "outputs": [],
   "source": [
    "# We could also replace the above code with a single line\n",
    "# using Python's 'list comprehension' syntax\n",
    "[print(\"At index {}, the value is {}\".format(i, v)) for i, v in enumerate(random_stuff)];"
   ]
  },
  {
   "cell_type": "markdown",
   "metadata": {
    "slideshow": {
     "slide_type": "subslide"
    }
   },
   "source": [
    "## Imports and namespaces\n",
    "* Python is very serious about maintaining orderly namespaces\n",
    "* If you want to use some code outside the current scope, you need to explicitly \"import\" it\n",
    "* Python's import system often annoys beginners, but it substantially increases code clarity\n",
    "    * Almost completely eliminates naming conflicts and confusion\n",
    "    * If you know R, consider the horrors wreaked by liberal use of `attach()`"
   ]
  },
  {
   "cell_type": "code",
   "execution_count": 37,
   "metadata": {
    "slideshow": {
     "slide_type": "fragment"
    }
   },
   "outputs": [
    {
     "data": {
      "text/plain": [
       "True"
      ]
     },
     "execution_count": 37,
     "metadata": {},
     "output_type": "execute_result"
    }
   ],
   "source": [
    "\n",
    "\n",
    "# Three different ways to import and access the OrderedDict class\n",
    "from collections import OrderedDict\n",
    "a = OrderedDict()\n",
    "\n",
    "from collections import OrderedDict as od\n",
    "b = od()\n",
    "\n",
    "import collections\n",
    "c = collections.OrderedDict()\n",
    "\n",
    "# Verify that the resulting objects are equivalent\n",
    "a == b == c"
   ]
  },
  {
   "cell_type": "markdown",
   "metadata": {
    "slideshow": {
     "slide_type": "subslide"
    }
   },
   "source": [
    "## Functions\n",
    "* A block of code that only runs when explicitly called\n",
    "* Can accept arguments (or parameters) that alter its behavior\n",
    "* Can accept any number/type of inputs and return any single object"
   ]
  },
  {
   "cell_type": "code",
   "execution_count": 38,
   "metadata": {
    "slideshow": {
     "slide_type": "fragment"
    }
   },
   "outputs": [],
   "source": [
    "# We'll need the random module for this\n",
    "import random\n",
    "\n",
    "def add_noise(x, mu=0, sd=1):\n",
    "    ''' Adds gaussian noise to the input.\n",
    "    \n",
    "    Parameters:\n",
    "        x (number): The number to add noise to\n",
    "        mu (float): The mean of the gaussian noise distribution\n",
    "        sd (float): The standard deviation of the noise distribution\n",
    "    \n",
    "    Returns: A float.\n",
    "    '''\n",
    "    noise = random.normalvariate(mu, sd)\n",
    "    return x + noise"
   ]
  },
  {
   "cell_type": "code",
   "execution_count": 47,
   "metadata": {
    "slideshow": {
     "slide_type": "fragment"
    }
   },
   "outputs": [
    {
     "data": {
      "text/plain": [
       "28.642188486327356"
      ]
     },
     "execution_count": 47,
     "metadata": {},
     "output_type": "execute_result"
    }
   ],
   "source": [
    "# Let's try it out..\n",
    "add_noise(4, 0, 100)"
   ]
  },
  {
   "cell_type": "markdown",
   "metadata": {
    "slideshow": {
     "slide_type": "subslide"
    }
   },
   "source": [
    "## Classes\n",
    "* A template for a particular kind of object\n",
    "* A class defines the variables an object contains and what it can do with them\n",
    "* To illustrate, let's define a `Circle` class...\n",
    "* Note: object-oriented programming can be a bit hard to understand at first, and we're moving quickly"
   ]
  },
  {
   "cell_type": "code",
   "execution_count": 55,
   "metadata": {
    "slideshow": {
     "slide_type": "fragment"
    }
   },
   "outputs": [],
   "source": [
    "# We need pi!\n",
    "import math\n",
    "\n",
    "class Circle:\n",
    "    ''' Represents a circle. Not terribly useful, if we're being honest.\n",
    "    \n",
    "    Parameters:\n",
    "        radius (float): The radius of the circle.\n",
    "    '''\n",
    "    \n",
    "    def __init__(self, radius):\n",
    "        self.r = radius\n",
    "    \n",
    "    def __mul__(self, op):\n",
    "        return Circle(self.r * op)\n",
    "    \n",
    "    def __repr__(self):\n",
    "        return \"A circle with a radius of {} has an area of {}\".format(self.r, self.area)\n",
    "\n",
    "    @property\n",
    "    def area(self):\n",
    "        return math.pi * math.pow(self.r, 2)\n",
    "\n",
    "    def copy(self):\n",
    "        ''' Returns a new Circle with the same radius. '''\n",
    "        return Circle(self.r)"
   ]
  },
  {
   "cell_type": "code",
   "execution_count": 59,
   "metadata": {
    "slideshow": {
     "slide_type": "fragment"
    }
   },
   "outputs": [],
   "source": [
    "# Initialize a circle and print its area "
   ]
  },
  {
   "cell_type": "markdown",
   "metadata": {
    "slideshow": {
     "slide_type": "subslide"
    }
   },
   "source": [
    "### Magic methods [advanced]\n",
    "* Methods padded with `__` have a variety of special functions in Python\n",
    "* E.g., `__init__` and/or `__new__` are called when an object is initialized\n",
    "* All operators in Python are actually just cleverly-disguised method calls\n",
    "* E.g., the code `age_in_years * 2` is actually equivalent to `age_in_years.__mul__(2)`\n",
    "* Any object that implements the `__mul__` method can use the `*` operator"
   ]
  },
  {
   "cell_type": "code",
   "execution_count": 65,
   "metadata": {
    "slideshow": {
     "slide_type": "fragment"
    }
   },
   "outputs": [],
   "source": [
    "# Multiply a circle by 2 and print the resulting circle's are"
   ]
  },
  {
   "cell_type": "markdown",
   "metadata": {
    "slideshow": {
     "slide_type": "slide"
    }
   },
   "source": [
    "# Why do data science in Python?"
   ]
  },
  {
   "cell_type": "markdown",
   "metadata": {
    "slideshow": {
     "slide_type": "subslide"
    }
   },
   "source": [
    "## Easy to learn\n",
    "* Readable, explicit syntax\n",
    "* Most packages are very well documented\n",
    "    * e.g., scikit-learn's [documentation](http://scikit-learn.org/stable/documentation.html) is widely held up as a model\n",
    "* A huge number of tutorials, guides, and other educational materials\n",
    "    * [Code Academy](https://www.codecademy.com/learn/python) is a good place to start\n",
    "    * Tons of questions (and answers) on [Stack Overflow](http://stackoverflow.com/questions/tagged/python)"
   ]
  },
  {
   "cell_type": "markdown",
   "metadata": {
    "slideshow": {
     "slide_type": "subslide"
    }
   },
   "source": [
    "## Comprehensive standard library\n",
    "* The [Python standard library](https://docs.python.org/2/library/) contains a huge number of high-quality modules\n",
    "* When in doubt, check the standard library first before you write your own tools!\n",
    "* For example:\n",
    "    * os: operating system tools\n",
    "    * re: regular expressions\n",
    "    * collections: useful data structures\n",
    "    * multiprocessing: simple parallelization tools\n",
    "    * pickle: serialization\n",
    "    * json: reading and writing JSON"
   ]
  },
  {
   "cell_type": "markdown",
   "metadata": {
    "slideshow": {
     "slide_type": "subslide"
    }
   },
   "source": [
    "## Exceptional external libraries\n",
    "\n",
    "* Python has very good (often best-in-class) external packages for almost everything\n",
    "* Particularly important for data science, which draws on a very broad toolkit\n",
    "* Package management is easy (conda, pip)\n",
    "* Examples:\n",
    "    * Web development: flask, Django\n",
    "    * Database ORMs: SQLAlchemy, Django ORM (w/ adapters for all major DBs)\n",
    "    * Scraping/parsing text/markup: beautifulsoup, scrapy\n",
    "    * Natural language processing (NLP): nltk, gensim, textblob\n",
    "    * Numerical computation and data analysis: numpy, scipy, pandas, xarray\n",
    "    * Machine learning: scikit-learn, Tensorflow, keras\n",
    "    * Image processing: pillow, scikit-image, OpenCV\n",
    "    * Plotting: matplotlib, seaborn, altair, ggplot, Bokeh\n",
    "    * GUI development: pyQT, wxPython\n",
    "    * Testing: py.test\n",
    "    * Etc. etc. etc."
   ]
  },
  {
   "cell_type": "markdown",
   "metadata": {
    "slideshow": {
     "slide_type": "subslide"
    }
   },
   "source": [
    "## (Relatively) good performance\n",
    "* Python is a high-level dynamic language--this comes at a performance cost\n",
    "* For many (not all!) data scientists, performance is irrelevant most of the time\n",
    "* In general, the less Python code you write yourself, the better your performance will be\n",
    "    * Much of the standard library consists of Python interfaces to C functions\n",
    "    * Numpy, scikit-learn, Theano, etc. all rely heavily on C/C++ or Fortran"
   ]
  },
  {
   "cell_type": "code",
   "execution_count": 68,
   "metadata": {
    "slideshow": {
     "slide_type": "subslide"
    }
   },
   "outputs": [],
   "source": [
    "# Create a list of 100,000 integers\n",
    "my_list = list(range(100000, ))"
   ]
  },
  {
   "cell_type": "code",
   "execution_count": 69,
   "metadata": {
    "slideshow": {
     "slide_type": "fragment"
    }
   },
   "outputs": [
    {
     "name": "stdout",
     "output_type": "stream",
     "text": [
      "335 µs ± 5.35 µs per loop (mean ± std. dev. of 7 runs, 1000 loops each)\n"
     ]
    }
   ],
   "source": [
    "# Python's built-in sum() function is pretty fast\n",
    "%timeit sum(my_list)"
   ]
  },
  {
   "cell_type": "code",
   "execution_count": 70,
   "metadata": {
    "slideshow": {
     "slide_type": "fragment"
    }
   },
   "outputs": [
    {
     "name": "stdout",
     "output_type": "stream",
     "text": [
      "3.79 ms ± 245 µs per loop (mean ± std. dev. of 7 runs, 100 loops each)\n"
     ]
    }
   ],
   "source": [
    "# If you write your own naive implementation, it probably won't\n",
    "# be nearly as fast\n",
    "def ill_write_my_own_sum_thank_you_very_much(l):\n",
    "    s = 0\n",
    "    for elem in my_list: \n",
    "        s += elem\n",
    "    return s\n",
    "\n",
    "%timeit ill_write_my_own_sum_thank_you_very_much(my_list)"
   ]
  },
  {
   "cell_type": "markdown",
   "metadata": {
    "slideshow": {
     "slide_type": "subslide"
    }
   },
   "source": [
    "### If you need more speed...\n",
    "* [Cython](http://cython.org) (a superset of Python) allows C type declarations, function calls\n",
    "* Rapid progress on just-in-time compilers that optimize code effortlessly\n",
    "* Example: compare three correlation coefficient implementations\n",
    "    * pure Python\n",
    "    * numpy\n",
    "    * pure Python with just-in-time compilation (via [Numba](https://numba.pydata.org/))"
   ]
  },
  {
   "cell_type": "markdown",
   "metadata": {
    "slideshow": {
     "slide_type": "subslide"
    }
   },
   "source": [
    "#### Naive Python implementation"
   ]
  },
  {
   "cell_type": "code",
   "execution_count": 71,
   "metadata": {
    "slideshow": {
     "slide_type": "fragment"
    }
   },
   "outputs": [],
   "source": [
    "import math\n",
    "\n",
    "def python_corr(n, arr1, arr2):\n",
    "    ''' Naive implementation of Pearson correlation in pure Python. '''\n",
    "    m1 = sum(arr1) / n\n",
    "    m2 = sum(arr2) / n\n",
    "    var1 = 0\n",
    "    var2 = 0\n",
    "    cov = 0\n",
    "    \n",
    "    for i in range(n):\n",
    "        d1 = arr1[i] - m1\n",
    "        d2 = arr2[i] - m2\n",
    "        var1 += math.pow(d1, 2)\n",
    "        var2 += math.pow(d2, 2)\n",
    "        cov += d1 * d2\n",
    "    \n",
    "    sd1 = math.sqrt(var1 / n)\n",
    "    sd2 = math.sqrt(var2 / n)\n",
    "    \n",
    "    return cov / (sd1 * sd2 * n)"
   ]
  },
  {
   "cell_type": "markdown",
   "metadata": {
    "slideshow": {
     "slide_type": "subslide"
    }
   },
   "source": [
    "#### Out-of-the-box numpy implementation"
   ]
  },
  {
   "cell_type": "code",
   "execution_count": 74,
   "metadata": {
    "slideshow": {
     "slide_type": "fragment"
    }
   },
   "outputs": [],
   "source": [
    "import numpy as np\n",
    "\n",
    "def numpy_corr(n, arr1, arr2):\n",
    "    ''' A wrapper for numpy's correlation coefficient implementation. '''\n",
    "    return np.corrcoef(arr1, arr2)[0, 1]"
   ]
  },
  {
   "cell_type": "code",
   "execution_count": null,
   "metadata": {},
   "outputs": [],
   "source": [
    "    "
   ]
  },
  {
   "cell_type": "markdown",
   "metadata": {
    "slideshow": {
     "slide_type": "subslide"
    }
   },
   "source": [
    "#### Naive Python implementation w/ JIT compilation"
   ]
  },
  {
   "cell_type": "code",
   "execution_count": 75,
   "metadata": {
    "slideshow": {
     "slide_type": "fragment"
    }
   },
   "outputs": [],
   "source": [
    "from numba import jit\n",
    "\n",
    "# The only difference from the earlier naive version\n",
    "# is this decorator!\n",
    "@jit\n",
    "def numba_corr(n, arr1, arr2):\n",
    "    ''' Native Python implementation with Numba's just-in-time compiler. '''\n",
    "    m1 = sum(arr1) / n\n",
    "    m2 = sum(arr2) / n\n",
    "    var1 = 0\n",
    "    var2 = 0\n",
    "    cov = 0\n",
    "    \n",
    "    for i in range(n):\n",
    "        d1 = arr1[i] - m1\n",
    "        d2 = arr2[i] - m2\n",
    "        var1 += math.pow(d1, 2)\n",
    "        var2 += math.pow(d2, 2)\n",
    "        cov += d1 * d2\n",
    "    \n",
    "    sd1 = math.sqrt(var1 / n)\n",
    "    sd2 = math.sqrt(var2 / n)\n",
    "    \n",
    "    return cov / (sd1 * sd2 * n)"
   ]
  },
  {
   "cell_type": "markdown",
   "metadata": {
    "slideshow": {
     "slide_type": "subslide"
    }
   },
   "source": [
    "#### Benchmarking the implementations"
   ]
  },
  {
   "cell_type": "code",
   "execution_count": 76,
   "metadata": {
    "slideshow": {
     "slide_type": "fragment"
    }
   },
   "outputs": [
    {
     "name": "stdout",
     "output_type": "stream",
     "text": [
      "Time taken by python_corr (array size = 10): 0.00012 ms)\n",
      "Time taken by numpy_corr (array size = 10): 0.0012 ms)\n",
      "Time taken by numba_corr (array size = 10): 0.089 ms)\n",
      "Time taken by python_corr (array size = 100): 0.001 ms)\n",
      "Time taken by numpy_corr (array size = 100): 0.0015 ms)\n",
      "Time taken by numba_corr (array size = 100): 0.00014 ms)\n",
      "Time taken by python_corr (array size = 1000): 0.01 ms)\n",
      "Time taken by numpy_corr (array size = 1000): 0.0024 ms)\n",
      "Time taken by numba_corr (array size = 1000): 0.00069 ms)\n",
      "Time taken by python_corr (array size = 10000): 0.1 ms)\n",
      "Time taken by numpy_corr (array size = 10000): 0.011 ms)\n",
      "Time taken by numba_corr (array size = 10000): 0.0061 ms)\n",
      "Time taken by python_corr (array size = 100000): 1 ms)\n",
      "Time taken by numpy_corr (array size = 100000): 0.095 ms)\n",
      "Time taken by numba_corr (array size = 100000): 0.062 ms)\n"
     ]
    }
   ],
   "source": [
    "import timeit\n",
    "import matplotlib.pyplot as plt\n",
    "%matplotlib inline\n",
    "\n",
    "versions = ['python_corr', 'numpy_corr', 'numba_corr']\n",
    "array_sizes = np.power(10, np.arange(1, 6))\n",
    "repeat = 5\n",
    "number = 20\n",
    "\n",
    "def setup(n, v):\n",
    "    return '''\n",
    "import numpy as np\n",
    "from __main__ import {}\n",
    "n = {}\n",
    "arr1 = np.random.normal(size={}).tolist()\n",
    "arr2 = np.random.normal(size={}).tolist()\n",
    "'''.format(v, n, n, n)\n",
    "\n",
    "# Store the results for later plotting\n",
    "results = np.zeros((len(array_sizes), len(versions)))\n",
    "\n",
    "for i, n in enumerate(array_sizes):\n",
    "    for j, v in enumerate(versions):\n",
    "        bests = timeit.repeat('{}(n, arr1, arr2)'.format(v), setup(n, v), repeat=repeat, number=number)\n",
    "        results[i, j] = np.array(bests).mean()\n",
    "        print(\"Time taken by {} (array size = {}): {:.2g} ms)\".format(v, n, results[i, j]))"
   ]
  },
  {
   "cell_type": "code",
   "execution_count": 77,
   "metadata": {
    "scrolled": false,
    "slideshow": {
     "slide_type": "subslide"
    }
   },
   "outputs": [
    {
     "data": {
      "image/png": "[encoded data removed]",
      "text/plain": [
       "<Figure size 432x288 with 1 Axes>"
      ]
     },
     "metadata": {},
     "output_type": "display_data"
    }
   ],
   "source": [
    "# Let's plot the benchmark results...\n",
    "for j, v in enumerate(versions):\n",
    "    plt.plot(array_sizes[:], results[:, j], 'o-', ms=5, label=v.split('_')[0])\n",
    "\n",
    "# gca() is short for 'get current axes'\n",
    "ax = plt.gca()\n",
    "\n",
    "# Set display options\n",
    "ax.set(xlabel='Array size', ylabel='Time taken (ms)', xscale='log')\n",
    "\n",
    "# Add legend in the best location\n",
    "ax.legend(loc='best');"
   ]
  },
  {
   "cell_type": "markdown",
   "metadata": {
    "slideshow": {
     "slide_type": "slide"
    }
   },
   "source": [
    "# Python vs. other data science languages\n",
    "\n",
    "* Python competes for mind share with many other languages\n",
    "* Most notably, R\n",
    "* To a lesser extent, Matlab, Mathematica, SAS, Julia, Java, Scala, etc."
   ]
  },
  {
   "cell_type": "markdown",
   "metadata": {
    "slideshow": {
     "slide_type": "subslide"
    }
   },
   "source": [
    "### R\n",
    "* [R](https://www.r-project.org/) is dominant in traditional statistics and some fields of science\n",
    "    * Has attracted many SAS, SPSS, and Stata users\n",
    "* Exceptional statistics support; hundreds of best-in-class libraries\n",
    "* Designed to make data analysis and visualization as easy as possible\n",
    "* Slow\n",
    "* Language quirks drive many experienced software developers crazy\n",
    "* Less support for most things non-data-related"
   ]
  },
  {
   "cell_type": "markdown",
   "metadata": {
    "slideshow": {
     "slide_type": "subslide"
    }
   },
   "source": [
    "### MATLAB\n",
    "* A proprietary numerical computing language widely used by engineers\n",
    "* Good performance and very active development, but expensive\n",
    "* Closed ecosystem, relatively few third-party libraries\n",
    "    * There is an open-source port (Octave)\n",
    "* Not suitable for use as a general-purpose language"
   ]
  },
  {
   "cell_type": "markdown",
   "metadata": {
    "slideshow": {
     "slide_type": "subslide"
    }
   },
   "source": [
    "### Others\n",
    "* [Julia](http://julialang.org/) is a performant new language for technical computing\n",
    "    * Promising, but very few libraries compared to Python, R\n",
    "* [SAS](???) is an enterprise analytics software suite widely used in government, some industries\n",
    "    * Offers a GUI and handles large datasets very well\n",
    "    * Does very little other than data analysis\n",
    "* Java has an enormous ecosystem and excellent performance, but is extremely verbose\n",
    "* [SPSS](http://www.ibm.com/analytics/us/en/technology/spss/) is more of a cash cow for IBM than a programming language; we won't discuss it\n",
    "    * But if you must use SPSS, use [JASP](https://jasp-stats.org/) or [Jamovi](https://www.jamovi.org/) instead!"
   ]
  },
  {
   "cell_type": "markdown",
   "metadata": {
    "slideshow": {
     "slide_type": "subslide"
    }
   },
   "source": [
    "## So, why Python?\n",
    "Why choose Python over other languages?\n",
    "* Arguably none of these offers the same combination of readability, flexibility, libraries, and performance\n",
    "* Python is sometimes described as \"the second best language for everything\"\n",
    "* Doesn't mean you should always use Python\n",
    "    * Depends on your needs, community, etc."
   ]
  },
  {
   "cell_type": "markdown",
   "metadata": {
    "slideshow": {
     "slide_type": "subslide"
    }
   },
   "source": [
    "## You can have your cake _and_ eat it!\n",
    "* Many languages--particularly R--now interface seamlessly with Python\n",
    "* You can work primarily in Python, fall back on R when you need it (or vice versa)\n",
    "* The best of all possible worlds?"
   ]
  },
  {
   "cell_type": "markdown",
   "metadata": {
    "slideshow": {
     "slide_type": "slide"
    }
   },
   "source": [
    "# The core Python data science stack\n",
    "* The Python ecosystem contains tens of thousands of packages\n",
    "* Several are very widely used in data science applications:\n",
    "    * [Jupyter](http://jupyter.org): interactive notebooks\n",
    "    * [Numpy](http://numpy.org): numerical computing in Python\n",
    "    * [Scipy](http://scipy.org): scientific Python tools\n",
    "    * [Matplotlib](http://matplotlib.org): plotting in Python\n",
    "    * [pandas](http://pandas.pydata.org/): complex data structures for Python\n",
    "    * [scikit-learn](http://scikit-learn.org): machine learning in Python\n",
    "* We'll cover the first two today, and meet the rest later"
   ]
  },
  {
   "cell_type": "markdown",
   "metadata": {
    "slideshow": {
     "slide_type": "slide"
    }
   },
   "source": [
    "# The Jupyter notebook\n",
    "* \"The [Jupyter Notebook](http://jupyter.org) is a web application that allows you to create and share documents that contain live code, equations, visualizations and explanatory text.\"\n",
    "    * You can [try it online](http://jupyter.org/try)\n",
    "* Formerly the IPython Notebook\n",
    "* Supports [many different languages](https://github.com/jupyter/jupyter/wiki/Jupyter-kernels)\n",
    "* A living document wrapped around a command prompt\n",
    "* Various extensions and [widgets](http://ipywidgets.readthedocs.io/en/latest/index.html)"
   ]
  },
  {
   "cell_type": "code",
   "execution_count": 79,
   "metadata": {
    "slideshow": {
     "slide_type": "fragment"
    }
   },
   "outputs": [
    {
     "data": {
      "application/vnd.jupyter.widget-view+json": {
       "model_id": "a1d8dc645cf241c38f1b97d900afa6c3",
       "version_major": 2,
       "version_minor": 0
      },
      "text/plain": [
       "interactive(children=(IntSlider(value=5, description='mu', max=15, min=-5), IntSlider(value=2, description='sd…"
      ]
     },
     "metadata": {},
     "output_type": "display_data"
    }
   ],
   "source": [
    "# We discuss what the following lines do elsewhere\n",
    "import numpy as np\n",
    "import matplotlib.pyplot as plt\n",
    "%matplotlib inline\n",
    "\n",
    "# Interactive widgets!\n",
    "from ipywidgets import interact\n",
    "import ipywidgets as widgets\n",
    "\n",
    "# Define our plotting function\n",
    "def plot_normal_hist(mu, sd):\n",
    "    samp = np.random.normal(mu, sd, size=10000)\n",
    "    plt.hist(samp, bins=100)\n",
    "    plt.xlim(-10, 20)\n",
    "\n",
    "# Hook up our plotting function to the interactive widget\n",
    "interact(plot_normal_hist, mu=5, sd=2);"
   ]
  },
  {
   "cell_type": "markdown",
   "metadata": {
    "collapsed": true,
    "slideshow": {
     "slide_type": "subslide"
    }
   },
   "source": [
    "## Why Jupyter?\n",
    "* An easy way to write and share completely reproducible documents\n",
    "* Combine code, results, and text in one place\n",
    "* You can mix languages\n",
    "* Completely interactive: make a change and see what happens\n",
    "* Execution order matters"
   ]
  },
  {
   "cell_type": "markdown",
   "metadata": {
    "slideshow": {
     "slide_type": "subslide"
    }
   },
   "source": [
    "### Slideshow mode\n",
    "* These slides are actually a live Jupyter notebook\n",
    "* We can edit and execute cells on-the-fly\n",
    "* The slideshow extension is installed separately; follow the instructions [here](https://github.com/damianavila/RISE)"
   ]
  },
  {
   "cell_type": "markdown",
   "metadata": {
    "slideshow": {
     "slide_type": "subslide"
    }
   },
   "source": [
    "### Built-in LaTeX support\n",
    "$$ F(k) = \\int_{-\\infty}^{\\infty} f(x) e^{2\\pi i k} dx $$"
   ]
  },
  {
   "cell_type": "markdown",
   "metadata": {
    "slideshow": {
     "slide_type": "subslide"
    }
   },
   "source": [
    "### Highly customizable\n",
    "* Custom key bindings\n",
    "* Supports [web standards](http://jupyter-notebook.readthedocs.io/en/stable/examples/Notebook/JavaScript%20Notebook%20Extensions.html#) that enable near-limitless customization via JavaScript\n",
    "* All kinds of [unofficial extensions](http://jupyter-contrib-nbextensions.readthedocs.io/en/latest/)"
   ]
  },
  {
   "cell_type": "markdown",
   "metadata": {
    "slideshow": {
     "slide_type": "subslide"
    }
   },
   "source": [
    "### Magic functions\n",
    "* Jupyter/IPython includes a number of [\"magic\" commands](http://ipython.readthedocs.io/en/stable/interactive/magics.html) to make life easier\n",
    "* Support in-line plotting, timing, debugging, calling other languages, etc."
   ]
  },
  {
   "cell_type": "code",
   "execution_count": 80,
   "metadata": {
    "slideshow": {
     "slide_type": "fragment"
    }
   },
   "outputs": [
    {
     "data": {
      "image/png": "[encoded data removed]",
      "text/plain": [
       "<Figure size 432x288 with 1 Axes>"
      ]
     },
     "metadata": {},
     "output_type": "display_data"
    }
   ],
   "source": [
    "# This line says we want plots displayed in cell output\n",
    "%matplotlib inline\n",
    "\n",
    "import matplotlib.pyplot as plt\n",
    "import numpy as np\n",
    "\n",
    "x = np.random.normal(size=100)\n",
    "y = np.random.normal(size=100)\n",
    "p = plt.scatter(x, y)"
   ]
  },
  {
   "cell_type": "markdown",
   "metadata": {
    "slideshow": {
     "slide_type": "subslide"
    }
   },
   "source": [
    "### Combining R and Python with the %R magic\n",
    "* In the same notebook\n",
    "* And even in the same notebook cell!\n",
    "* Can also use an [R kernel](https://irkernel.github.io/) with the notebook"
   ]
  },
  {
   "cell_type": "code",
   "execution_count": 82,
   "metadata": {
    "slideshow": {
     "slide_type": "fragment"
    }
   },
   "outputs": [
    {
     "name": "stdout",
     "output_type": "stream",
     "text": [
      "The rpy2.ipython extension is already loaded. To reload it, use:\n",
      "  %reload_ext rpy2.ipython\n",
      "   total_bill   tip     sex smoker  day    time  size\n",
      "0       16.99  1.01  Female     No  Sun  Dinner     2\n",
      "1       10.34  1.66    Male     No  Sun  Dinner     3\n",
      "2       21.01  3.50    Male     No  Sun  Dinner     3\n",
      "3       23.68  3.31    Male     No  Sun  Dinner     2\n",
      "4       24.59  3.61  Female     No  Sun  Dinner     4\n"
     ]
    },
    {
     "data": {
      "image/png": "[encoded data removed]"
     },
     "metadata": {},
     "output_type": "display_data"
    }
   ],
   "source": [
    "# This cell won't work unless you've installed R and rpy2.\n",
    "# You can get R from CRAN (https://cloud.r-project.org/),\n",
    "# and install rpy2 with \"conda install rpy2\"\n",
    "%load_ext rpy2.ipython\n",
    "\n",
    "import seaborn as sns\n",
    "\n",
    "df = sns.load_dataset('tips')\n",
    "print(df.head())\n",
    "\n",
    "%R -i df\n",
    "# Assumes that ggplot2 is installed in R!\n",
    "%R library(ggplot2)\n",
    "%R p = qplot(total_bill, tip, color=time, data=df) + geom_smooth(method='lm')\n",
    "%R print(p);"
   ]
  },
  {
   "cell_type": "markdown",
   "metadata": {
    "slideshow": {
     "slide_type": "subslide"
    }
   },
   "source": [
    "### Cell vs. line magics\n",
    "* %R will let you write one line of R code into a Python cell\n",
    "* %%R turns the whole cell into R code"
   ]
  },
  {
   "cell_type": "code",
   "execution_count": 83,
   "metadata": {
    "slideshow": {
     "slide_type": "fragment"
    }
   },
   "outputs": [
    {
     "data": {
      "text/plain": [
       "\n",
       "Call:\n",
       "lm(formula = y ~ x)\n",
       "\n",
       "Residuals:\n",
       "     Min       1Q   Median       3Q      Max \n",
       "-2.26858 -0.73938 -0.08337  0.84320  2.24699 \n",
       "\n",
       "Coefficients:\n",
       "            Estimate Std. Error t value Pr(>|t|)    \n",
       "(Intercept)   0.3689     0.1019   3.620 0.000468 ***\n",
       "x            -0.1100     0.1076  -1.022 0.309335    \n",
       "---\n",
       "Signif. codes:  0 ‘***’ 0.001 ‘**’ 0.01 ‘*’ 0.05 ‘.’ 0.1 ‘ ’ 1\n",
       "\n",
       "Residual standard error: 1.019 on 98 degrees of freedom\n",
       "Multiple R-squared:  0.01054,\tAdjusted R-squared:  0.0004475 \n",
       "F-statistic: 1.044 on 1 and 98 DF,  p-value: 0.3093\n",
       "\n"
      ]
     },
     "metadata": {},
     "output_type": "display_data"
    },
    {
     "data": {
      "image/png": "[encoded data removed]"
     },
     "metadata": {},
     "output_type": "display_data"
    }
   ],
   "source": [
    "%%R\n",
    "x = rnorm(100)\n",
    "y = rnorm(100)\n",
    "print(qplot(x, y))\n",
    "print(summary(lm(y ~ x)))"
   ]
  },
  {
   "cell_type": "markdown",
   "metadata": {
    "slideshow": {
     "slide_type": "subslide"
    }
   },
   "source": [
    "### Getting help in Jupyter\n",
    "* Explore the options under the \"Help\" menu\n",
    "* Press the 'h' key (in cell mode) to see keyboard shortcuts\n",
    "* Shift-tab inside Python function calls will show you the function signature/arguments\n",
    "* Prefix any Python function with '?' to bring up its documentation\n",
    "* Prefix any command with '!' to run it as an operating system command (use sparingly!)"
   ]
  },
  {
   "cell_type": "code",
   "execution_count": 85,
   "metadata": {
    "slideshow": {
     "slide_type": "fragment"
    }
   },
   "outputs": [],
   "source": [
    "# # Running this cell will pop up the documentation for\n",
    "# # numpy's reshape function\n",
    "import numpy as np\n",
    "?np.reshape"
   ]
  },
  {
   "cell_type": "markdown",
   "metadata": {
    "slideshow": {
     "slide_type": "subslide"
    }
   },
   "source": [
    "## Numpy\n",
    "* \"The fundamental package for scientific computing with Python\"\n",
    "* The basic building block of most data analysis in Python\n",
    "* Numpy arrays: N-dimensional, homogeneous, unlabeled arrays\n",
    "* Working with numpy will look familiar if you've spent time in an environment like R or Matlab\n",
    "    * There are handy cheat sheets for [Matlab](http://mathesaurus.sourceforge.net/matlab-numpy.html) and [R](http://mathesaurus.sourceforge.net/r-numpy.html) users\n",
    "    * Suggested homework: do [a numpy tutorial](https://www.datacamp.com/community/tutorials/python-numpy-tutorial) or [two](https://www.learnpython.org/en/Numpy_Arrays)\n",
    "* Numpy contains highly optimized routines for creating and manipulating arrays"
   ]
  },
  {
   "cell_type": "code",
   "execution_count": 86,
   "metadata": {
    "slideshow": {
     "slide_type": "subslide"
    }
   },
   "outputs": [],
   "source": [
    "# By convention, we assign numpy to the variable np for brevity\n",
    "import numpy as np\n",
    "\n",
    "# This isn't numpy-related, but we'll be plotting stuff in the notebook\n",
    "import matplotlib.pyplot as plt\n",
    "\n",
    "# Draw all plots inline in the notebook\n",
    "%matplotlib inline"
   ]
  },
  {
   "cell_type": "code",
   "execution_count": 101,
   "metadata": {
    "scrolled": true,
    "slideshow": {
     "slide_type": "fragment"
    }
   },
   "outputs": [
    {
     "data": {
      "text/plain": [
       "array([[0., 0., 0., 0., 0., 0., 0., 0., 0., 0.],\n",
       "       [0., 0., 0., 0., 0., 0., 0., 0., 0., 0.],\n",
       "       [0., 0., 0., 0., 0., 0., 0., 0., 0., 0.],\n",
       "       [0., 0., 0., 0., 0., 0., 0., 0., 0., 0.],\n",
       "       [0., 0., 0., 0., 0., 0., 0., 0., 0., 0.],\n",
       "       [0., 0., 0., 0., 0., 0., 0., 0., 0., 0.],\n",
       "       [0., 0., 0., 0., 0., 0., 0., 0., 0., 0.],\n",
       "       [0., 0., 0., 0., 0., 0., 0., 0., 0., 0.],\n",
       "       [0., 0., 0., 0., 0., 0., 0., 0., 0., 0.],\n",
       "       [0., 0., 0., 0., 0., 0., 0., 0., 0., 0.]])"
      ]
     },
     "execution_count": 101,
     "metadata": {},
     "output_type": "execute_result"
    }
   ],
   "source": [
    "# Create an empty 10 x 10 array of zeros\n",
    "np.zeros([10, 10])"
   ]
  },
  {
   "cell_type": "code",
   "execution_count": 106,
   "metadata": {
    "slideshow": {
     "slide_type": "fragment"
    }
   },
   "outputs": [],
   "source": [
    "# Create a 1d numpy array with values 0 through 9999\n",
    "a = np.arange(1000)"
   ]
  },
  {
   "cell_type": "code",
   "execution_count": 118,
   "metadata": {
    "slideshow": {
     "slide_type": "fragment"
    }
   },
   "outputs": [],
   "source": [
    "# # Add a little bit of noise\n",
    "b = np.random.normal(0, 0.5, size=[10, 100])\n",
    "a = a + b"
   ]
  },
  {
   "cell_type": "code",
   "execution_count": 122,
   "metadata": {
    "slideshow": {
     "slide_type": "fragment"
    }
   },
   "outputs": [
    {
     "name": "stdout",
     "output_type": "stream",
     "text": [
      "[[  0.56522374   1.70919031   2.35723748   1.98607055   4.64103367\n",
      "    5.49926115   7.26508316   7.57034282   7.39687701  10.04620438\n",
      "    9.45787545  11.30112525  10.71146108  13.76032374  14.14714986\n",
      "   14.86113777  17.12558854  16.58977134  17.81590727  19.65705685\n",
      "   18.94644642  19.68777775  21.00844048  22.07009902  22.91169653\n",
      "   24.97846141  26.54529595  27.84440964  29.01412895  29.62251683\n",
      "   29.2389199   30.72015144  33.45899338  32.95428365  34.24632725\n",
      "   33.96497819  35.81207968  35.85373932  40.34885436  38.81234969\n",
      "   39.59484318  41.78187928  42.43036948  42.56237641  43.79659191\n",
      "   44.6331195   45.62168828  46.85206668  48.21647664  48.28569308]\n",
      " [100.02311187 101.0830871  101.15022322 102.04110073 103.09927081\n",
      "  105.83932121 105.55537196 106.47725127 108.19862912 108.63513513\n",
      "  109.72187242 112.14145702 112.43789053 112.59797798 113.6213611\n",
      "  114.34319582 116.37001758 117.70322318 117.53566824 118.4278701\n",
      "  120.97400041 122.23750796 121.13944658 123.48508028 124.59273755\n",
      "  124.88297487 126.81495339 126.7613259  126.94294345 129.75159168\n",
      "  130.53296974 129.25200894 132.7471889  131.87810561 132.88172376\n",
      "  136.82699854 135.66161665 136.51939402 138.50546349 137.9839519\n",
      "  139.45197843 141.09110553 141.78514715 144.31852939 144.49417952\n",
      "  146.33897168 144.63336814 146.59535099 148.23984069 148.40943766]]\n"
     ]
    }
   ],
   "source": [
    "# Inspect the first 50 elements of each of the first two rows\n",
    "print(a[0:2, 0:50])"
   ]
  },
  {
   "cell_type": "code",
   "execution_count": 123,
   "metadata": {
    "slideshow": {
     "slide_type": "fragment"
    }
   },
   "outputs": [
    {
     "data": {
      "image/png": "[encoded data removed]",
      "text/plain": [
       "<Figure size 432x288 with 1 Axes>"
      ]
     },
     "metadata": {},
     "output_type": "display_data"
    }
   ],
   "source": [
    "# Plot only the 3rd through 6th rows\n",
    "to_plot = a[3:7, :]\n",
    "for row in to_plot:\n",
    "    plt.plot(row)"
   ]
  },
  {
   "cell_type": "markdown",
   "metadata": {
    "slideshow": {
     "slide_type": "subslide"
    }
   },
   "source": [
    "### Numpy exercises\n",
    "Here are a few numpy exercises to get you started; if you're new to Python, these will probably require some googling.\n",
    "1. Create a 10 x 10 x 10 3d array of random numbers (hint: see examples above)\n",
    "2. Extract any 10 x 10 slice from that array\n",
    "3. Create two 2d arrays of any size (but both with the same dimensions) and print their element-wise product\n",
    "4. Create a 1d array of any length and then reverse it (so that the first element becomes the last, etc.)\n",
    "5. 100 more short exercises can be found [here](https://github.com/rougier/numpy-100/blob/master/100%20Numpy%20exercises%20no%20solution.ipynb) (there are also versions [with hints](https://github.com/rougier/numpy-100/blob/master/100%20Numpy%20exercises%20with%20hint.ipynb) and [with solutions](https://github.com/rougier/numpy-100/blob/master/100%20Numpy%20exercises.ipynb))"
   ]
  },
  {
   "cell_type": "code",
   "execution_count": null,
   "metadata": {
    "slideshow": {
     "slide_type": "fragment"
    }
   },
   "outputs": [],
   "source": [
    "# Write your code here"
   ]
  },
  {
   "cell_type": "markdown",
   "metadata": {
    "slideshow": {
     "slide_type": "subslide"
    }
   },
   "source": [
    "## Everything revolves around numpy arrays\n",
    "* Scipy adds a bunch of useful science and engineering routines that operate on numpy arrays\n",
    "    * signal processing, statistical distributions, image analysis, etc.\n",
    "* pandas adds powerful methods for manipulating numpy arrays\n",
    "    * Like data frames in R--but typically faster\n",
    "* scikit-learn supports state-of-the-art machine learning over numpy arrays\n",
    "    * Inputs and outputs of virtually all functions are numpy arrays"
   ]
  },
  {
   "cell_type": "markdown",
   "metadata": {
    "slideshow": {
     "slide_type": "subslide"
    }
   },
   "source": [
    "# Best practices\n",
    "\n",
    "* Good data scientists borrow many best practices from software developers\n",
    "* Efficiency and reproducibility are key\n",
    "* Some best practices:\n",
    "    * Maintain project- or domain-specific environments\n",
    "    * Use version control (e.g., Git/GitHub)\n",
    "    * Profile your code\n",
    "    * Test your code*\n",
    "    * Document everything"
   ]
  },
  {
   "cell_type": "markdown",
   "metadata": {
    "slideshow": {
     "slide_type": "subslide"
    }
   },
   "source": [
    "## Set up project-specific environments\n",
    "* It's a good idea to set up a new Python environment for each project (or at least, domain)\n",
    "* Prevents version conflicts and makes dependency management easy\n",
    "* Conda simplifies this process (see [the documentation](http://conda.pydata.org/docs/using/envs.html))\n",
    "* In the interest of time, we won't do this here--but you may want to try it for tomorrow"
   ]
  },
  {
   "cell_type": "markdown",
   "metadata": {
    "slideshow": {
     "slide_type": "subslide"
    }
   },
   "source": [
    "## Version control\n",
    "* Most data analysts are familiar \"how did I do that analysis?\" syndrome\n",
    "* Version or source control involves formally tracking the history of your work\n",
    "* Every major (sometimes minor) change is logged\n",
    "* Repository of changes is often maintained in a central location (e.g., GitHub)"
   ]
  },
  {
   "cell_type": "markdown",
   "metadata": {
    "slideshow": {
     "slide_type": "subslide"
    }
   },
   "source": [
    "<img src=\"images/version_control.png\" width=\"1000px\">"
   ]
  },
  {
   "cell_type": "markdown",
   "metadata": {
    "slideshow": {
     "slide_type": "subslide"
    }
   },
   "source": [
    "## Git/GitHub\n",
    "* The most widely used source control platform is [git](https://git-scm.com/downloads)\n",
    "    * If you're on Linux or Mac, it's probably already installed (type `git` at command line)\n",
    "    * If you're on Windows, you'll probably need to [install git](https://git-scm.com/downloads)\n",
    "* GitHub is the most widely used Git hosting service\n",
    "    * Hosts most millions of projects (including this course)\n",
    "* Learning curve can be a bit steep, but there are [interactive tutorials](https://try.github.io/levels/1/challenges/1) and installable [GUIs](https://git-scm.com/downloads/guis) to help\n",
    "* A small example..."
   ]
  },
  {
   "cell_type": "markdown",
   "metadata": {
    "slideshow": {
     "slide_type": "subslide"
    }
   },
   "source": [
    "## For tomorrow...\n",
    "\n",
    "* Install (and/or update) git\n",
    "    * Note: git is different from the GitHub client!\n",
    "    * You'll need the former; the latter is optional\n",
    "* Clone the repository for this course. From the command line:\n",
    "\n",
    "> git clone https://github.com/tyarkoni/SSI2018.git\n",
    "   \n",
    "* This will make it easier to work with the course notebooks\n",
    "* Create a user account on GitHub\n",
    "* Complete [this git tutorial](https://try.github.io/levels/1/challenges/1)"
   ]
  },
  {
   "cell_type": "markdown",
   "metadata": {
    "slideshow": {
     "slide_type": "subslide"
    }
   },
   "source": [
    "## Code profiling\n",
    "* Code has bottlenecks\n",
    "* The bottlenecks are often not where you expect them to be\n",
    "* Python has many available tools for easy code profiling\n",
    "* The easiest to use is the cProfile module in the standard library"
   ]
  },
  {
   "cell_type": "code",
   "execution_count": null,
   "metadata": {
    "slideshow": {
     "slide_type": "subslide"
    }
   },
   "outputs": [],
   "source": [
    "import cProfile\n",
    "from scipy.signal import convolve\n",
    "import numpy as np\n",
    "\n",
    "def pointless_array_operations():\n",
    "    ''' A set of pointless array operations intended to chew up clock time. '''\n",
    "    n = 100\n",
    "    x = np.random.normal(size=(n, n))\n",
    "    y = np.random.normal(size=(n, n))\n",
    "    for i in range(200):\n",
    "        z = np.dot(x, y)\n",
    "        z = convolve(z, np.random.normal(size=(n, 1)))\n",
    "        np.corrcoef(x, z)\n",
    "        \n",
    "cProfile.run('pointless_array_operations()')"
   ]
  },
  {
   "cell_type": "markdown",
   "metadata": {
    "slideshow": {
     "slide_type": "subslide"
    }
   },
   "source": [
    "## ...but don't get carried away\n",
    "* There are many profiling tools\n",
    "* It's easy to get sucked in\n",
    "* \"Premature optimization is the root of all evil\"\n",
    "* Focus on the parts of your code that hamper performance most"
   ]
  },
  {
   "cell_type": "markdown",
   "metadata": {
    "slideshow": {
     "slide_type": "subslide"
    }
   },
   "source": [
    "## Document your code and workflow\n",
    "* Get in the habit of documenting everything you do (not just code)\n",
    "* Tell your users (including yourself) the story of what your analyses are doing\n",
    "* The Jupyter notebook makes this easy\n",
    "    * There are plenty of excellent examples on the web (e.g., [1](http://beautifuldata.net/2014/03/datalicious-notebookmania-my-favorite-7-ipython-notebooks/), [2](https://github.com/donnemartin/data-science-ipython-notebooks), [3](https://github.com/jupyter/jupyter/wiki/A-gallery-of-interesting-Jupyter-Notebooks))"
   ]
  },
  {
   "cell_type": "markdown",
   "metadata": {
    "slideshow": {
     "slide_type": "slide"
    }
   },
   "source": [
    "# Resources/further reading\n",
    "\n",
    "There are hundreds of excellent resources online for learning Python and/or data science. A few good ones:\n",
    "\n",
    "* CodeAcademy offers interactive programming courses for many languages and tools, including [Python](https://www.codecademy.com/learn/python) and [git](https://www.codecademy.com/learn/learn-git)\n",
    "* [A Whirlwind Tour of Python](http://www.oreilly.com/programming/free/files/a-whirlwind-tour-of-python.pdf) is an excellent intro to Python by [Jake VanderPlas](https://staff.washington.edu/jakevdp/); Jupyter notebooks are available [here](https://github.com/jakevdp/WhirlwindTourOfPython)\n",
    "* Another excellent and free online book is Allen Downey's [\"Think Python\"](http://greenteapress.com/wp/think-python-2e/)\n",
    "* Jake's [Python Data Science Handbook](https://github.com/jakevdp/PythonDataScienceHandbook) is also available online as a set of notebooks\n",
    "* Kaggle maintains a nice list of [data science and Python tutorials](https://www.kaggle.com/learn/overview)\n",
    "* GitHub offers a [hands-on introduction](https://try.github.io/levels/1/challenges/1) to git (with GitHub); the official [Pro Git](https://git-scm.com/book/en/v2/) book provides a more comprehensive guide"
   ]
  },
  {
   "cell_type": "markdown",
   "metadata": {
    "slideshow": {
     "slide_type": "slide"
    }
   },
   "source": [
    "# Questions? Comments? Suggestions?\n",
    "* I'll be here for 20 - 30 minutes before and after every class\n",
    "* See you tomorrow!"
   ]
  }
 ],
 "metadata": {
  "celltoolbar": "Slideshow",
  "kernelspec": {
   "display_name": "Python 3",
   "language": "python",
   "name": "python3"
  },
  "language_info": {
   "codemirror_mode": {
    "name": "ipython",
    "version": 3
   },
   "file_extension": ".py",
   "mimetype": "text/x-python",
   "name": "python",
   "nbconvert_exporter": "python",
   "pygments_lexer": "ipython3",
   "version": "3.6.5"
  }
 },
 "nbformat": 4,
 "nbformat_minor": 1
}
